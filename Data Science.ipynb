{
  "nbformat": 4,
  "nbformat_minor": 0,
  "metadata": {
    "colab": {
      "name": "SDGP (1).ipynb",
      "provenance": [],
      "include_colab_link": true
    },
    "kernelspec": {
      "name": "python3",
      "display_name": "Python 3"
    }
  },
  "cells": [
    {
      "cell_type": "markdown",
      "metadata": {
        "id": "view-in-github",
        "colab_type": "text"
      },
      "source": [
        "<a href=\"https://colab.research.google.com/github/Toran98/Team-HyperNova-SDGP/blob/Development/Data%20Science.ipynb\" target=\"_parent\"><img src=\"https://colab.research.google.com/assets/colab-badge.svg\" alt=\"Open In Colab\"/></a>"
      ]
    },
    {
      "cell_type": "code",
      "metadata": {
        "id": "J4OXe91lHuaQ",
        "colab_type": "code",
        "outputId": "64ae12d4-9998-40d4-ba04-b32fdfa14e75",
        "colab": {
          "base_uri": "https://localhost:8080/",
          "height": 120
        }
      },
      "source": [
        "from google.colab import drive\n",
        "drive.mount('/content/drive')"
      ],
      "execution_count": 1,
      "outputs": [
        {
          "output_type": "stream",
          "text": [
            "Go to this URL in a browser: https://accounts.google.com/o/oauth2/auth?client_id=947318989803-6bn6qk8qdgf4n4g3pfee6491hc0brc4i.apps.googleusercontent.com&redirect_uri=urn%3aietf%3awg%3aoauth%3a2.0%3aoob&response_type=code&scope=email%20https%3a%2f%2fwww.googleapis.com%2fauth%2fdocs.test%20https%3a%2f%2fwww.googleapis.com%2fauth%2fdrive%20https%3a%2f%2fwww.googleapis.com%2fauth%2fdrive.photos.readonly%20https%3a%2f%2fwww.googleapis.com%2fauth%2fpeopleapi.readonly\n",
            "\n",
            "Enter your authorization code:\n",
            "··········\n",
            "Mounted at /content/drive\n"
          ],
          "name": "stdout"
        }
      ]
    },
    {
      "cell_type": "code",
      "metadata": {
        "id": "RscN3IyMa4Tg",
        "colab_type": "code",
        "outputId": "95171234-7d01-40c8-a224-a765a3ff184c",
        "colab": {
          "base_uri": "https://localhost:8080/",
          "height": 33
        }
      },
      "source": [
        "pwd"
      ],
      "execution_count": 2,
      "outputs": [
        {
          "output_type": "execute_result",
          "data": {
            "text/plain": [
              "'/content'"
            ]
          },
          "metadata": {
            "tags": []
          },
          "execution_count": 2
        }
      ]
    },
    {
      "cell_type": "code",
      "metadata": {
        "id": "LZDhd3xYIQ7w",
        "colab_type": "code",
        "outputId": "5ef6964c-9953-48df-c7d1-156eeb20427d",
        "colab": {
          "base_uri": "https://localhost:8080/",
          "height": 33
        }
      },
      "source": [
        "cd drive/My Drive/SDGP"
      ],
      "execution_count": 3,
      "outputs": [
        {
          "output_type": "stream",
          "text": [
            "/content/drive/My Drive/SDGP\n"
          ],
          "name": "stdout"
        }
      ]
    },
    {
      "cell_type": "code",
      "metadata": {
        "id": "ROeyuAXAKMo4",
        "colab_type": "code",
        "colab": {}
      },
      "source": [
        "import pandas as pd\n",
        "import numpy as np"
      ],
      "execution_count": 0,
      "outputs": []
    },
    {
      "cell_type": "code",
      "metadata": {
        "id": "YRNWJeSeIaV9",
        "colab_type": "code",
        "colab": {}
      },
      "source": [
        "dfs = pd.read_excel(\"dddddd.xlsx\", sheet_name=None)"
      ],
      "execution_count": 0,
      "outputs": []
    },
    {
      "cell_type": "code",
      "metadata": {
        "id": "is3wb5MNI1Ez",
        "colab_type": "code",
        "colab": {}
      },
      "source": [
        "clean_df = dfs['Sheet1']\n",
        "del clean_df['id']\n",
        "del clean_df['Vehicle company']"
      ],
      "execution_count": 0,
      "outputs": []
    },
    {
      "cell_type": "code",
      "metadata": {
        "id": "oE1L3--jY1M-",
        "colab_type": "code",
        "colab": {}
      },
      "source": [
        "clean_df = clean_df.dropna()"
      ],
      "execution_count": 0,
      "outputs": []
    },
    {
      "cell_type": "code",
      "metadata": {
        "id": "F2LFBUbKK841",
        "colab_type": "code",
        "colab": {
          "base_uri": "https://localhost:8080/",
          "height": 117
        },
        "outputId": "813218c1-f3f5-457e-a2cb-099273d23e0a"
      },
      "source": [
        "def fliterPrices(df):\n",
        "    return float(''.join(filter(str.isdigit, df['2 years before'] )))\n",
        "\n",
        "clean_df['prices'] = clean_df.apply(fliterPrices, axis = 1)"
      ],
      "execution_count": 9,
      "outputs": [
        {
          "output_type": "stream",
          "text": [
            "/usr/local/lib/python3.6/dist-packages/ipykernel_launcher.py:4: SettingWithCopyWarning: \n",
            "A value is trying to be set on a copy of a slice from a DataFrame.\n",
            "Try using .loc[row_indexer,col_indexer] = value instead\n",
            "\n",
            "See the caveats in the documentation: https://pandas.pydata.org/pandas-docs/stable/user_guide/indexing.html#returning-a-view-versus-a-copy\n",
            "  after removing the cwd from sys.path.\n"
          ],
          "name": "stderr"
        }
      ]
    },
    {
      "cell_type": "code",
      "metadata": {
        "id": "g_QwdOuBOdSE",
        "colab_type": "code",
        "colab": {}
      },
      "source": [
        "del clean_df['2 years before']"
      ],
      "execution_count": 0,
      "outputs": []
    },
    {
      "cell_type": "code",
      "metadata": {
        "id": "fZNFmTvvPNKt",
        "colab_type": "code",
        "colab": {
          "base_uri": "https://localhost:8080/",
          "height": 117
        },
        "outputId": "51d4df54-12c3-4eed-ea82-69bb2a1642f3"
      },
      "source": [
        "clean_df['vehicle_name'] = clean_df['Vehicle name']"
      ],
      "execution_count": 11,
      "outputs": [
        {
          "output_type": "stream",
          "text": [
            "/usr/local/lib/python3.6/dist-packages/ipykernel_launcher.py:1: SettingWithCopyWarning: \n",
            "A value is trying to be set on a copy of a slice from a DataFrame.\n",
            "Try using .loc[row_indexer,col_indexer] = value instead\n",
            "\n",
            "See the caveats in the documentation: https://pandas.pydata.org/pandas-docs/stable/user_guide/indexing.html#returning-a-view-versus-a-copy\n",
            "  \"\"\"Entry point for launching an IPython kernel.\n"
          ],
          "name": "stderr"
        }
      ]
    },
    {
      "cell_type": "code",
      "metadata": {
        "id": "4NrSjYbSPrjg",
        "colab_type": "code",
        "colab": {}
      },
      "source": [
        "del clean_df['Vehicle name']"
      ],
      "execution_count": 0,
      "outputs": []
    },
    {
      "cell_type": "code",
      "metadata": {
        "id": "O3moxi2hP0eC",
        "colab_type": "code",
        "colab": {}
      },
      "source": [
        "word_dict = []\n",
        "for line in clean_df['vehicle_name']:\n",
        "  for word in line.split(\" \"):\n",
        "    if word not in word_dict:\n",
        "      word_dict.append(word)"
      ],
      "execution_count": 0,
      "outputs": []
    },
    {
      "cell_type": "code",
      "metadata": {
        "id": "AC4r5OzySPoN",
        "colab_type": "code",
        "colab": {
          "base_uri": "https://localhost:8080/",
          "height": 117
        },
        "outputId": "a3b1a972-721a-4eac-d4e7-cfc7d07888a4"
      },
      "source": [
        "def createVectors(df):\n",
        "  list_zeros = [0]* len(word_dict)\n",
        "  for name in df['vehicle_name'].split(\" \"):\n",
        "    if name in word_dict:\n",
        "      indx = word_dict.index(name)\n",
        "      list_zeros[indx] = 1\n",
        "  return list_zeros\n",
        "\n",
        "clean_df['name_vectors'] = clean_df.apply(createVectors, axis = 1)"
      ],
      "execution_count": 15,
      "outputs": [
        {
          "output_type": "stream",
          "text": [
            "/usr/local/lib/python3.6/dist-packages/ipykernel_launcher.py:9: SettingWithCopyWarning: \n",
            "A value is trying to be set on a copy of a slice from a DataFrame.\n",
            "Try using .loc[row_indexer,col_indexer] = value instead\n",
            "\n",
            "See the caveats in the documentation: https://pandas.pydata.org/pandas-docs/stable/user_guide/indexing.html#returning-a-view-versus-a-copy\n",
            "  if __name__ == '__main__':\n"
          ],
          "name": "stderr"
        }
      ]
    },
    {
      "cell_type": "code",
      "metadata": {
        "id": "THVVaBLXSsqC",
        "colab_type": "code",
        "colab": {}
      },
      "source": [
        "del clean_df['vehicle_name']"
      ],
      "execution_count": 0,
      "outputs": []
    },
    {
      "cell_type": "code",
      "metadata": {
        "id": "0PhKPY9qXcp1",
        "colab_type": "code",
        "colab": {}
      },
      "source": [
        "# Data Preprocessing \n",
        "features = clean_df['name_vectors']\n",
        "labels = clean_df['prices']"
      ],
      "execution_count": 0,
      "outputs": []
    },
    {
      "cell_type": "code",
      "metadata": {
        "id": "fKmyAStWpOTa",
        "colab_type": "code",
        "colab": {}
      },
      "source": [
        "clean_features = []\n",
        "for i in features:\n",
        "  clean_features.append(i)"
      ],
      "execution_count": 0,
      "outputs": []
    },
    {
      "cell_type": "code",
      "metadata": {
        "id": "S0l6dCdupon3",
        "colab_type": "code",
        "colab": {}
      },
      "source": [
        "clean_labels = []\n",
        "for i in labels:\n",
        "  clean_labels.append(i)"
      ],
      "execution_count": 0,
      "outputs": []
    },
    {
      "cell_type": "code",
      "metadata": {
        "id": "TFNV50ZIXnqp",
        "colab_type": "code",
        "colab": {}
      },
      "source": [
        "# Test Train Split\n",
        "from sklearn.model_selection import train_test_split\n",
        "X_train, X_test, y_train, y_test = train_test_split(clean_features, clean_labels, test_size=0.3, random_state=42)"
      ],
      "execution_count": 0,
      "outputs": []
    },
    {
      "cell_type": "code",
      "metadata": {
        "id": "93XVSOZ8nf0h",
        "colab_type": "code",
        "outputId": "e3806a3f-6b58-4286-92f5-8d6b1c2f177b",
        "colab": {
          "base_uri": "https://localhost:8080/",
          "height": 84
        }
      },
      "source": [
        "from sklearn import linear_model\n",
        "clf = linear_model.BayesianRidge()\n",
        "clf.fit(X_train, y_train)"
      ],
      "execution_count": 23,
      "outputs": [
        {
          "output_type": "execute_result",
          "data": {
            "text/plain": [
              "BayesianRidge(alpha_1=1e-06, alpha_2=1e-06, alpha_init=None,\n",
              "              compute_score=False, copy_X=True, fit_intercept=True,\n",
              "              lambda_1=1e-06, lambda_2=1e-06, lambda_init=None, n_iter=300,\n",
              "              normalize=False, tol=0.001, verbose=False)"
            ]
          },
          "metadata": {
            "tags": []
          },
          "execution_count": 23
        }
      ]
    },
    {
      "cell_type": "code",
      "metadata": {
        "id": "fmLINglRqMUJ",
        "colab_type": "code",
        "colab": {}
      },
      "source": [
        "def create_vector_predict(word):\n",
        "  list_zeros = [0]* len(word_dict)\n",
        "  for name in word.split(\" \"):\n",
        "    if name in word_dict:\n",
        "      indx = word_dict.index(name)\n",
        "      list_zeros[indx] = 1\n",
        "  return list_zeros\n"
      ],
      "execution_count": 0,
      "outputs": []
    },
    {
      "cell_type": "code",
      "metadata": {
        "id": "j0lui7bMrdHk",
        "colab_type": "code",
        "colab": {}
      },
      "source": [
        "pred = clf.predict(X_test)"
      ],
      "execution_count": 0,
      "outputs": []
    },
    {
      "cell_type": "code",
      "metadata": {
        "id": "qWAZfScWr5lH",
        "colab_type": "code",
        "outputId": "cd8a7625-fe8e-4cb0-836e-d0e3f5bf00bf",
        "colab": {
          "base_uri": "https://localhost:8080/",
          "height": 33
        }
      },
      "source": [
        "from sklearn.metrics import mean_squared_log_error\n",
        "mean_squared_log_error(y_test, pred)"
      ],
      "execution_count": 26,
      "outputs": [
        {
          "output_type": "execute_result",
          "data": {
            "text/plain": [
              "1.1243137661279488"
            ]
          },
          "metadata": {
            "tags": []
          },
          "execution_count": 26
        }
      ]
    },
    {
      "cell_type": "code",
      "metadata": {
        "id": "ycHGyqPDsnyd",
        "colab_type": "code",
        "outputId": "ca0b5eff-a6b6-43aa-e4b1-4aa573909fa4",
        "colab": {
          "base_uri": "https://localhost:8080/",
          "height": 33
        }
      },
      "source": [
        "from sklearn.metrics import explained_variance_score\n",
        "explained_variance_score(y_test, pred)"
      ],
      "execution_count": 27,
      "outputs": [
        {
          "output_type": "execute_result",
          "data": {
            "text/plain": [
              "7.706391080830599e-12"
            ]
          },
          "metadata": {
            "tags": []
          },
          "execution_count": 27
        }
      ]
    },
    {
      "cell_type": "markdown",
      "metadata": {
        "id": "hrCU7RYirXZX",
        "colab_type": "text"
      },
      "source": [
        "# Prediction Logic"
      ]
    },
    {
      "cell_type": "code",
      "metadata": {
        "id": "dD5807fTqFTc",
        "colab_type": "code",
        "outputId": "485c5ced-e4b9-4eb9-fa07-e828893ca804",
        "colab": {
          "base_uri": "https://localhost:8080/",
          "height": 33
        }
      },
      "source": [
        "clf.predict([create_vector_predict(\"Honda Fit GP5 Sport 2018\")])"
      ],
      "execution_count": 28,
      "outputs": [
        {
          "output_type": "execute_result",
          "data": {
            "text/plain": [
              "array([5858738.88000234])"
            ]
          },
          "metadata": {
            "tags": []
          },
          "execution_count": 28
        }
      ]
    }
  ]
}