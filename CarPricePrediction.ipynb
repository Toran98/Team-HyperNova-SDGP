{
 "cells": [
  {
   "cell_type": "code",
   "execution_count": 52,
   "metadata": {},
   "outputs": [],
   "source": [
    "import pandas as pd\n",
    "import numpy as np\n",
    "import matplotlib.pyplot as plt\n",
    "from sklearn.model_selection import train_test_split\n",
    "from sklearn.linear_model import LinearRegression\n",
    "from sklearn import preprocessing\n",
    "from scipy.stats import zscore"
   ]
  },
  {
   "cell_type": "code",
   "execution_count": 53,
   "metadata": {},
   "outputs": [],
   "source": [
    "df = pd.read_csv(\"testdata.csv\")"
   ]
  },
  {
   "cell_type": "code",
   "execution_count": 54,
   "metadata": {},
   "outputs": [
    {
     "data": {
      "text/plain": [
       "<bound method NDFrame.head of            id                           Model  Year Company    Price  Engine  \\\n",
       "0   200716453                Honda N Box 2019  2019   Honda  3750000     660   \n",
       "1   200716455         Honda N WGN Custom 2018  2017   Honda  3300000     658   \n",
       "2   200716452           Honda S660 Alpha 2017  2017   Honda  3885000     658   \n",
       "3   200701070     Honda Fit GP5 RS Grade 2015  2015   Honda  3890000    1496   \n",
       "4   200716458        Honda Fit GP5 Sport 2014  2014   Honda  3275000    1496   \n",
       "5   200716456              Honda Fit GP5 2013  2013   Honda  3285000    1496   \n",
       "6   200716459              Honda Fit GP5 2014  2014   Honda  3375000    1496   \n",
       "7   200716457             Honda Grace EX 2015  2015   Honda  4550000    1496   \n",
       "8   200716451             Honda Grace EX 2018  2018   Honda  6450000    1496   \n",
       "9   200714223        Honda Grace Sensing 2018  2018   Honda  6490000    1496   \n",
       "10  200714226  Honda Civic SR 1.0L Turbo 2018  2018   Honda  6100000    1000   \n",
       "11  200714229  Honda Civic SR 1.0L Turbo 2018  2018   Honda  5750000    1000   \n",
       "12  200717036  Honda Civic EX 1.0L Turbo 2018  2018   Honda  6290000    1000   \n",
       "13  200714222     Honda Civic 1.0L Turbo 2018  2018   Honda  5900000    1000   \n",
       "14  200714231           Honda Civic 1.0L 2018  2018   Honda  6225000    1000   \n",
       "15  200714234                Honda Grace 2014  2014   Honda  3800000    1497   \n",
       "16  200714230             Honda Grace EX 2016  2016   Honda  5875000    1497   \n",
       "17  200714225                Honda Grace 2017  2017   Honda  6590000    1497   \n",
       "18  200717031             Honda Vezel RS 2018  2018   Honda  6100000    1496   \n",
       "19  200714224     Honda Vezel RS Sensing 2018  2018   Honda  7000000    1496   \n",
       "\n",
       "        FuelType Transmission  Age  Mileage  \n",
       "0         petrol    Automatic    1     1850  \n",
       "1         petrol    Automatic    3    34000  \n",
       "2         petrol    Automatic    3    15000  \n",
       "3         petrol    Automatic    5    80000  \n",
       "4   HybridPetrol    Automatic    6    68000  \n",
       "5   HybridPetrol    Automatic    7    55470  \n",
       "6   HybridPetrol    Automatic    6    84000  \n",
       "7   HybridPetrol    Automatic    5    48500  \n",
       "8         petrol    Automatic    2    10000  \n",
       "9         petrol    Automatic    2        0  \n",
       "10       petrol     Automatic    2    18000  \n",
       "11       petrol     Automatic    2    35000  \n",
       "12       petrol     Automatic    2    30576  \n",
       "13       petrol     Automatic    2    70000  \n",
       "14       petrol     Automatic    2    25000  \n",
       "15       petrol     Automatic    6    53000  \n",
       "16        petrol    Automatic    4    14000  \n",
       "17        petrol    Automatic    3     7900  \n",
       "18        petrol    Automatic    2    62300  \n",
       "19        petrol    Automatic    2    25000  >"
      ]
     },
     "execution_count": 54,
     "metadata": {},
     "output_type": "execute_result"
    }
   ],
   "source": [
    "df.head"
   ]
  },
  {
   "cell_type": "code",
   "execution_count": 55,
   "metadata": {},
   "outputs": [],
   "source": [
    "df[\"Transmission\"] = df[\"Transmission\"].astype(str)"
   ]
  },
  {
   "cell_type": "code",
   "execution_count": 56,
   "metadata": {},
   "outputs": [
    {
     "name": "stdout",
     "output_type": "stream",
     "text": [
      "0     2019\n",
      "1     2017\n",
      "2     2017\n",
      "3     2015\n",
      "4     2014\n",
      "5     2013\n",
      "6     2014\n",
      "7     2015\n",
      "8     2018\n",
      "9     2018\n",
      "10    2018\n",
      "11    2018\n",
      "12    2018\n",
      "13    2018\n",
      "14    2018\n",
      "15    2014\n",
      "16    2016\n",
      "17    2017\n",
      "18    2018\n",
      "19    2018\n",
      "Name: Year, dtype: int64\n"
     ]
    }
   ],
   "source": [
    "df= df[(df['Year']>=1990)&(df['Year']<=2020)]\n",
    "print(df.Year)"
   ]
  },
  {
   "cell_type": "code",
   "execution_count": 57,
   "metadata": {},
   "outputs": [
    {
     "data": {
      "text/plain": [
       "Text(0, 0.5, 'Price')"
      ]
     },
     "execution_count": 57,
     "metadata": {},
     "output_type": "execute_result"
    },
    {
     "data": {
      "image/png": "[encoded data removed]",
      "text/plain": [
       "<Figure size 432x288 with 1 Axes>"
      ]
     },
     "metadata": {
      "needs_background": "light"
     },
     "output_type": "display_data"
    }
   ],
   "source": [
    "plt.scatter(df['Year'], df['Price'])\n",
    "plt.xlabel(\"Year\")\n",
    "plt.ylabel(\"Price\")"
   ]
  },
  {
   "cell_type": "code",
   "execution_count": 58,
   "metadata": {},
   "outputs": [
    {
     "data": {
      "text/plain": [
       "id               int64\n",
       "Model           object\n",
       "Year             int64\n",
       "Company         object\n",
       "Price            int64\n",
       "Engine           int64\n",
       "FuelType        object\n",
       "Transmission    object\n",
       "Age              int64\n",
       "Mileage          int64\n",
       "dtype: object"
      ]
     },
     "execution_count": 58,
     "metadata": {},
     "output_type": "execute_result"
    }
   ],
   "source": [
    "df.dtypes"
   ]
  },
  {
   "cell_type": "code",
   "execution_count": 59,
   "metadata": {},
   "outputs": [
    {
     "data": {
      "text/plain": [
       "id               int64\n",
       "Model           object\n",
       "Year             int64\n",
       "Company         object\n",
       "Price            int64\n",
       "Engine           int64\n",
       "FuelType        object\n",
       "Transmission    object\n",
       "Age              int64\n",
       "Mileage          int64\n",
       "dtype: object"
      ]
     },
     "execution_count": 59,
     "metadata": {},
     "output_type": "execute_result"
    }
   ],
   "source": [
    "df.dtypes"
   ]
  },
  {
   "cell_type": "code",
   "execution_count": 60,
   "metadata": {},
   "outputs": [],
   "source": [
    "df = df.astype({\"Engine\": int, \"Age\": int})"
   ]
  },
  {
   "cell_type": "code",
   "execution_count": 61,
   "metadata": {},
   "outputs": [
    {
     "data": {
      "text/plain": [
       "Text(0, 0.5, 'Price')"
      ]
     },
     "execution_count": 61,
     "metadata": {},
     "output_type": "execute_result"
    },
    {
     "data": {
      "image/png": "[encoded data removed]",
      "text/plain": [
       "<Figure size 432x288 with 1 Axes>"
      ]
     },
     "metadata": {
      "needs_background": "light"
     },
     "output_type": "display_data"
    }
   ],
   "source": [
    "plt.scatter(df['Engine'], df['Price'])\n",
    "plt.xlabel(\"Engine\")\n",
    "plt.ylabel(\"Price\")"
   ]
  },
  {
   "cell_type": "code",
   "execution_count": 62,
   "metadata": {},
   "outputs": [
    {
     "data": {
      "text/plain": [
       "Text(0, 0.5, 'Price')"
      ]
     },
     "execution_count": 62,
     "metadata": {},
     "output_type": "execute_result"
    },
    {
     "data": {
      "image/png": "[encoded data removed]",
      "text/plain": [
       "<Figure size 432x288 with 1 Axes>"
      ]
     },
     "metadata": {
      "needs_background": "light"
     },
     "output_type": "display_data"
    }
   ],
   "source": [
    "plt.scatter(df['Age'], df['Price'])\n",
    "plt.xlabel(\"Age\")\n",
    "plt.ylabel(\"Price\")"
   ]
  },
  {
   "cell_type": "code",
   "execution_count": 63,
   "metadata": {},
   "outputs": [
    {
     "data": {
      "text/plain": [
       "Text(0, 0.5, 'Price')"
      ]
     },
     "execution_count": 63,
     "metadata": {},
     "output_type": "execute_result"
    },
    {
     "data": {
      "image/png": "[encoded data removed]",
      "text/plain": [
       "<Figure size 432x288 with 1 Axes>"
      ]
     },
     "metadata": {
      "needs_background": "light"
     },
     "output_type": "display_data"
    }
   ],
   "source": [
    "plt.scatter(df['Transmission'], df['Price'])\n",
    "plt.xlabel(\"Transmission\")\n",
    "plt.ylabel(\"Price\")"
   ]
  },
  {
   "cell_type": "code",
   "execution_count": 64,
   "metadata": {},
   "outputs": [
    {
     "data": {
      "text/plain": [
       "Text(0, 0.5, 'Price')"
      ]
     },
     "execution_count": 64,
     "metadata": {},
     "output_type": "execute_result"
    },
    {
     "data": {
      "image/png": "[encoded data removed]",
      "text/plain": [
       "<Figure size 432x288 with 1 Axes>"
      ]
     },
     "metadata": {
      "needs_background": "light"
     },
     "output_type": "display_data"
    }
   ],
   "source": [
    "plt.scatter(df['Age'], df['Price'])\n",
    "plt.xlabel(\"Age\")\n",
    "plt.ylabel(\"Price\")"
   ]
  },
  {
   "cell_type": "code",
   "execution_count": 65,
   "metadata": {},
   "outputs": [],
   "source": [
    "df[\"FuelType\"] = df[\"FuelType\"].astype(str)"
   ]
  },
  {
   "cell_type": "code",
   "execution_count": 66,
   "metadata": {},
   "outputs": [
    {
     "data": {
      "text/plain": [
       "Text(0, 0.5, 'Price')"
      ]
     },
     "execution_count": 66,
     "metadata": {},
     "output_type": "execute_result"
    },
    {
     "data": {
      "image/png": "[encoded data removed]",
      "text/plain": [
       "<Figure size 432x288 with 1 Axes>"
      ]
     },
     "metadata": {
      "needs_background": "light"
     },
     "output_type": "display_data"
    }
   ],
   "source": [
    "plt.scatter(df['FuelType'], df['Price'])\n",
    "plt.xlabel(\"FuelType\")\n",
    "plt.ylabel(\"Price\")"
   ]
  },
  {
   "cell_type": "code",
   "execution_count": 67,
   "metadata": {},
   "outputs": [
    {
     "name": "stdout",
     "output_type": "stream",
     "text": [
      "['Automatic']\n",
      "['petrol', 'HybridPetrol', 'petrol ']\n",
      "0\n",
      "0\n",
      "0\n",
      "0\n",
      "id               int64\n",
      "Model           object\n",
      "Year             int64\n",
      "Company         object\n",
      "Price            int64\n",
      "Engine           int32\n",
      "FuelType         int32\n",
      "Transmission     int32\n",
      "Age              int32\n",
      "Mileage          int64\n",
      "dtype: object\n",
      "<bound method NDFrame.head of 0     0\n",
      "1     0\n",
      "2     0\n",
      "3     0\n",
      "4     1\n",
      "5     1\n",
      "6     1\n",
      "7     1\n",
      "8     0\n",
      "9     0\n",
      "10    2\n",
      "11    2\n",
      "12    2\n",
      "13    2\n",
      "14    2\n",
      "15    2\n",
      "16    0\n",
      "17    0\n",
      "18    0\n",
      "19    0\n",
      "Name: FuelType, dtype: int32>\n",
      "<bound method NDFrame.head of 0     0\n",
      "1     0\n",
      "2     0\n",
      "3     0\n",
      "4     0\n",
      "5     0\n",
      "6     0\n",
      "7     0\n",
      "8     0\n",
      "9     0\n",
      "10    0\n",
      "11    0\n",
      "12    0\n",
      "13    0\n",
      "14    0\n",
      "15    0\n",
      "16    0\n",
      "17    0\n",
      "18    0\n",
      "19    0\n",
      "Name: Transmission, dtype: int32>\n"
     ]
    }
   ],
   "source": [
    "transmission_types = [x for x in df['Transmission'].unique().tolist()]\n",
    "print(transmission_types)\n",
    "fuel_types = [x for x in df['FuelType'].unique().tolist()]\n",
    "print(fuel_types)\n",
    "tmission_number = 0\n",
    "\n",
    "for tmission in transmission_types:\n",
    "  df['Transmission'] = df['Transmission'].replace({str(tmission): str(tmission_number)})\n",
    "  tmission_number += 1\n",
    "ftype_number = 0\n",
    "for ftype in fuel_types:\n",
    "  df['FuelType'] = df['FuelType'].replace({str(ftype): str(ftype_number)})\n",
    "  ftype_number += 1\n",
    "print(df['Transmission'].isnull().sum())\n",
    "print(df['FuelType'].isnull().sum())\n",
    "df['Transmission'] = df['Transmission'].fillna(method='ffill')\n",
    "df['FuelType'] = df['FuelType'].fillna(method='ffill')\n",
    "print(df['Transmission'].isnull().sum())\n",
    "print(df['FuelType'].isnull().sum())\n",
    "df['Transmission'] = df['Transmission'].astype(float).astype(int)\n",
    "df['FuelType'] = df['FuelType'].astype(float).astype(int)\n",
    "print(df.dtypes)\n",
    "print(df['FuelType'].head)\n",
    "print(df['Transmission'].head)"
   ]
  },
  {
   "cell_type": "code",
   "execution_count": 68,
   "metadata": {},
   "outputs": [],
   "source": [
    "X = df[['Year','Engine','FuelType','Age','Transmission','Mileage']]\n",
    "y = df['Price']"
   ]
  },
  {
   "cell_type": "code",
   "execution_count": 69,
   "metadata": {},
   "outputs": [],
   "source": [
    "X_train,X_test,y_train,y_test = train_test_split(X,y,test_size=0.2)"
   ]
  },
  {
   "cell_type": "code",
   "execution_count": 70,
   "metadata": {},
   "outputs": [
    {
     "name": "stdout",
     "output_type": "stream",
     "text": [
      "    Year  Engine  FuelType  Age  Transmission  Mileage\n",
      "10  2018    1000         2    2             0    18000\n",
      "3   2015    1496         0    5             0    80000\n",
      "0   2019     660         0    1             0     1850\n",
      "11  2018    1000         2    2             0    35000\n",
      "19  2018    1496         0    2             0    25000\n",
      "12  2018    1000         2    2             0    30576\n",
      "4   2014    1496         1    6             0    68000\n",
      "15  2014    1497         2    6             0    53000\n",
      "7   2015    1496         1    5             0    48500\n",
      "14  2018    1000         2    2             0    25000\n",
      "8   2018    1496         0    2             0    10000\n",
      "18  2018    1496         0    2             0    62300\n",
      "1   2017     658         0    3             0    34000\n",
      "17  2017    1497         0    3             0     7900\n",
      "6   2014    1496         1    6             0    84000\n",
      "16  2016    1497         0    4             0    14000\n"
     ]
    }
   ],
   "source": [
    "print(X_train) "
   ]
  },
  {
   "cell_type": "code",
   "execution_count": 71,
   "metadata": {},
   "outputs": [
    {
     "name": "stdout",
     "output_type": "stream",
     "text": [
      "    Year  Engine  FuelType  Age  Transmission  Mileage\n",
      "2   2017     658         0    3             0    15000\n",
      "5   2013    1496         1    7             0    55470\n",
      "9   2018    1496         0    2             0        0\n",
      "13  2018    1000         2    2             0    70000\n"
     ]
    }
   ],
   "source": [
    "print(X_test)"
   ]
  },
  {
   "cell_type": "code",
   "execution_count": 72,
   "metadata": {},
   "outputs": [
    {
     "data": {
      "text/plain": [
       "Year            int64\n",
       "Engine          int32\n",
       "FuelType        int32\n",
       "Age             int32\n",
       "Transmission    int32\n",
       "Mileage         int64\n",
       "dtype: object"
      ]
     },
     "execution_count": 72,
     "metadata": {},
     "output_type": "execute_result"
    }
   ],
   "source": [
    "X_test.dtypes"
   ]
  },
  {
   "cell_type": "code",
   "execution_count": 73,
   "metadata": {},
   "outputs": [
    {
     "data": {
      "text/plain": [
       "LinearRegression(copy_X=True, fit_intercept=True, n_jobs=None, normalize=False)"
      ]
     },
     "execution_count": 73,
     "metadata": {},
     "output_type": "execute_result"
    }
   ],
   "source": [
    "clf = LinearRegression()\n",
    "clf.fit(X_train, y_train)"
   ]
  },
  {
   "cell_type": "code",
   "execution_count": 74,
   "metadata": {},
   "outputs": [
    {
     "data": {
      "text/plain": [
       "array([2990958.38642991, 2978067.36462152, 7105243.66681981,\n",
       "       5339472.90359557])"
      ]
     },
     "execution_count": 74,
     "metadata": {},
     "output_type": "execute_result"
    }
   ],
   "source": [
    "clf.predict(X_test)"
   ]
  },
  {
   "cell_type": "code",
   "execution_count": 33,
   "metadata": {},
   "outputs": [
    {
     "name": "stdout",
     "output_type": "stream",
     "text": [
      "2      3885000\n",
      "9      6490000\n",
      "42     8975000\n",
      "41     2875000\n",
      "31     6750000\n",
      "44     2900000\n",
      "20    10490000\n",
      "26     4800000\n",
      "37     3600000\n",
      "34     4100000\n",
      "Name: Price, dtype: int64\n"
     ]
    }
   ],
   "source": [
    "print(y_test)"
   ]
  },
  {
   "cell_type": "code",
   "execution_count": 75,
   "metadata": {},
   "outputs": [
    {
     "name": "stdout",
     "output_type": "stream",
     "text": [
      "0.778649142870179\n"
     ]
    }
   ],
   "source": [
    "print(clf.score(X_test, y_test))"
   ]
  },
  {
   "cell_type": "code",
   "execution_count": 92,
   "metadata": {},
   "outputs": [
    {
     "data": {
      "text/plain": [
       "array([4160004.9771992])"
      ]
     },
     "execution_count": 92,
     "metadata": {},
     "output_type": "execute_result"
    }
   ],
   "source": [
    "clf.predict([[2025,658,0,8,0,15000]])"
   ]
  }
 ],
 "metadata": {
  "kernelspec": {
   "display_name": "Python 3",
   "language": "python",
   "name": "python3"
  },
  "language_info": {
   "codemirror_mode": {
    "name": "ipython",
    "version": 3
   },
   "file_extension": ".py",
   "mimetype": "text/x-python",
   "name": "python",
   "nbconvert_exporter": "python",
   "pygments_lexer": "ipython3",
   "version": "3.7.0"
  }
 },
 "nbformat": 4,
 "nbformat_minor": 4
}
