{
 "cells": [
  {
   "cell_type": "code",
   "execution_count": 581,
   "metadata": {},
   "outputs": [],
   "source": [
    "import pandas as pd\n",
    "import numpy as np\n",
    "import matplotlib.pyplot as plt\n",
    "from sklearn.model_selection import train_test_split\n",
    "from sklearn.linear_model import LinearRegression\n",
    "from sklearn import preprocessing\n",
    "from scipy.stats import zscore"
   ]
  },
  {
   "cell_type": "code",
   "execution_count": 582,
   "metadata": {},
   "outputs": [],
   "source": [
    "df = pd.read_csv(\"testdata.csv\")"
   ]
  },
  {
   "cell_type": "code",
   "execution_count": 583,
   "metadata": {},
   "outputs": [
    {
     "data": {
      "text/plain": [
       "<bound method NDFrame.head of             id                        Model  Year Company    Price  Engine  \\\n",
       "0    200716453             Honda N Box 2019  2019   Honda  3750000     660   \n",
       "1    200716455      Honda N WGN Custom 2018  2017   Honda  3300000     658   \n",
       "2    200716452        Honda S660 Alpha 2017  2017   Honda  3885000     658   \n",
       "3    200701070  Honda Fit GP5 RS Grade 2015  2015   Honda  3890000    1496   \n",
       "4    200716458     Honda Fit GP5 Sport 2014  2014   Honda  3275000    1496   \n",
       "..         ...                          ...   ...     ...      ...     ...   \n",
       "310  200474910                        Tiida  2008  Nissan  2550000    1500   \n",
       "311  200674226                  Tilda Latio  2008  Nissan  2550000    1500   \n",
       "312  200474917         Wingroad Full Option  1998  Nissan  1270000    1500   \n",
       "313  200674225                 wingroad Y12  2008  Nissan  2325000    1500   \n",
       "314  200474918                      X-Trail  2004  Nissan  2700000    2500   \n",
       "\n",
       "         FuelType Transmission  Age  Mileage  \n",
       "0          petrol    Automatic    1     1850  \n",
       "1          petrol    Automatic    3    34000  \n",
       "2          petrol    Automatic    3    15000  \n",
       "3          petrol    Automatic    5    80000  \n",
       "4    HybridPetrol    Automatic    6    68000  \n",
       "..            ...          ...  ...      ...  \n",
       "310        petrol    Automatic   12    85000  \n",
       "311        petrol    Automatic   12    97000  \n",
       "312        petrol       Manual   22   115250  \n",
       "313        petrol    Automatic   12   190000  \n",
       "314        petrol    Automatic   16   130000  \n",
       "\n",
       "[315 rows x 10 columns]>"
      ]
     },
     "execution_count": 583,
     "metadata": {},
     "output_type": "execute_result"
    }
   ],
   "source": [
    "df.head"
   ]
  },
  {
   "cell_type": "code",
   "execution_count": 584,
   "metadata": {},
   "outputs": [],
   "source": [
    "df[\"Transmission\"] = df[\"Transmission\"].astype(str)"
   ]
  },
  {
   "cell_type": "code",
   "execution_count": 585,
   "metadata": {},
   "outputs": [
    {
     "name": "stdout",
     "output_type": "stream",
     "text": [
      "0      2019\n",
      "1      2017\n",
      "2      2017\n",
      "3      2015\n",
      "4      2014\n",
      "       ... \n",
      "310    2008\n",
      "311    2008\n",
      "312    1998\n",
      "313    2008\n",
      "314    2004\n",
      "Name: Year, Length: 310, dtype: int64\n"
     ]
    }
   ],
   "source": [
    "df= df[(df['Year']>=1990)&(df['Year']<=2020)]\n",
    "print(df.Year)"
   ]
  },
  {
   "cell_type": "code",
   "execution_count": 586,
   "metadata": {},
   "outputs": [
    {
     "data": {
      "text/plain": [
       "Text(0, 0.5, 'Price')"
      ]
     },
     "execution_count": 586,
     "metadata": {},
     "output_type": "execute_result"
    },
    {
     "data": {
      "image/png": "[encoded data removed]",
      "text/plain": [
       "<Figure size 432x288 with 1 Axes>"
      ]
     },
     "metadata": {
      "needs_background": "light"
     },
     "output_type": "display_data"
    }
   ],
   "source": [
    "plt.scatter(df['Year'], df['Price'])\n",
    "plt.xlabel(\"Year\")\n",
    "plt.ylabel(\"Price\")"
   ]
  },
  {
   "cell_type": "code",
   "execution_count": 587,
   "metadata": {},
   "outputs": [
    {
     "data": {
      "text/plain": [
       "id               int64\n",
       "Model           object\n",
       "Year             int64\n",
       "Company         object\n",
       "Price            int64\n",
       "Engine           int64\n",
       "FuelType        object\n",
       "Transmission    object\n",
       "Age              int64\n",
       "Mileage          int64\n",
       "dtype: object"
      ]
     },
     "execution_count": 587,
     "metadata": {},
     "output_type": "execute_result"
    }
   ],
   "source": [
    "df.dtypes"
   ]
  },
  {
   "cell_type": "code",
   "execution_count": 588,
   "metadata": {},
   "outputs": [
    {
     "data": {
      "text/plain": [
       "id               int64\n",
       "Model           object\n",
       "Year             int64\n",
       "Company         object\n",
       "Price            int64\n",
       "Engine           int64\n",
       "FuelType        object\n",
       "Transmission    object\n",
       "Age              int64\n",
       "Mileage          int64\n",
       "dtype: object"
      ]
     },
     "execution_count": 588,
     "metadata": {},
     "output_type": "execute_result"
    }
   ],
   "source": [
    "df.dtypes"
   ]
  },
  {
   "cell_type": "code",
   "execution_count": 589,
   "metadata": {},
   "outputs": [
    {
     "data": {
      "text/plain": [
       "Text(0, 0.5, 'Price')"
      ]
     },
     "execution_count": 589,
     "metadata": {},
     "output_type": "execute_result"
    },
    {
     "data": {
      "image/png": "[encoded data removed]",
      "text/plain": [
       "<Figure size 432x288 with 1 Axes>"
      ]
     },
     "metadata": {
      "needs_background": "light"
     },
     "output_type": "display_data"
    }
   ],
   "source": [
    "plt.scatter(df['Company'], df['Price'])\n",
    "plt.xlabel(\"Company\")\n",
    "plt.ylabel(\"Price\")"
   ]
  },
  {
   "cell_type": "code",
   "execution_count": 590,
   "metadata": {},
   "outputs": [],
   "source": [
    "df = df.astype({\"Engine\": int, \"Age\": int})"
   ]
  },
  {
   "cell_type": "code",
   "execution_count": 591,
   "metadata": {},
   "outputs": [
    {
     "data": {
      "text/plain": [
       "Text(0, 0.5, 'Price')"
      ]
     },
     "execution_count": 591,
     "metadata": {},
     "output_type": "execute_result"
    },
    {
     "data": {
      "image/png": "[encoded data removed]",
      "text/plain": [
       "<Figure size 432x288 with 1 Axes>"
      ]
     },
     "metadata": {
      "needs_background": "light"
     },
     "output_type": "display_data"
    }
   ],
   "source": [
    "plt.scatter(df['Engine'], df['Price'])\n",
    "plt.xlabel(\"Engine\")\n",
    "plt.ylabel(\"Price\")"
   ]
  },
  {
   "cell_type": "code",
   "execution_count": 592,
   "metadata": {},
   "outputs": [
    {
     "data": {
      "text/plain": [
       "Text(0, 0.5, 'Price')"
      ]
     },
     "execution_count": 592,
     "metadata": {},
     "output_type": "execute_result"
    },
    {
     "data": {
      "image/png": "[encoded data removed]",
      "text/plain": [
       "<Figure size 432x288 with 1 Axes>"
      ]
     },
     "metadata": {
      "needs_background": "light"
     },
     "output_type": "display_data"
    }
   ],
   "source": [
    "plt.scatter(df['Age'], df['Price'])\n",
    "plt.xlabel(\"Age\")\n",
    "plt.ylabel(\"Price\")"
   ]
  },
  {
   "cell_type": "code",
   "execution_count": 593,
   "metadata": {},
   "outputs": [
    {
     "data": {
      "text/plain": [
       "Text(0, 0.5, 'Price')"
      ]
     },
     "execution_count": 593,
     "metadata": {},
     "output_type": "execute_result"
    },
    {
     "data": {
      "image/png": "[encoded data removed]",
      "text/plain": [
       "<Figure size 432x288 with 1 Axes>"
      ]
     },
     "metadata": {
      "needs_background": "light"
     },
     "output_type": "display_data"
    }
   ],
   "source": [
    "plt.scatter(df['Transmission'], df['Price'])\n",
    "plt.xlabel(\"Transmission\")\n",
    "plt.ylabel(\"Price\")"
   ]
  },
  {
   "cell_type": "code",
   "execution_count": 594,
   "metadata": {},
   "outputs": [],
   "source": [
    "df[\"FuelType\"] = df[\"FuelType\"].astype(str)"
   ]
  },
  {
   "cell_type": "code",
   "execution_count": 595,
   "metadata": {},
   "outputs": [
    {
     "data": {
      "text/plain": [
       "Text(0, 0.5, 'Price')"
      ]
     },
     "execution_count": 595,
     "metadata": {},
     "output_type": "execute_result"
    },
    {
     "data": {
      "image/png": "[encoded data removed]",
      "text/plain": [
       "<Figure size 432x288 with 1 Axes>"
      ]
     },
     "metadata": {
      "needs_background": "light"
     },
     "output_type": "display_data"
    }
   ],
   "source": [
    "plt.scatter(df['FuelType'], df['Price'])\n",
    "plt.xlabel(\"FuelType\")\n",
    "plt.ylabel(\"Price\")"
   ]
  },
  {
   "cell_type": "code",
   "execution_count": 596,
   "metadata": {},
   "outputs": [
    {
     "data": {
      "text/plain": [
       "Text(0, 0.5, 'Price')"
      ]
     },
     "execution_count": 596,
     "metadata": {},
     "output_type": "execute_result"
    },
    {
     "data": {
      "image/png": "[encoded data removed]",
      "text/plain": [
       "<Figure size 432x288 with 1 Axes>"
      ]
     },
     "metadata": {
      "needs_background": "light"
     },
     "output_type": "display_data"
    }
   ],
   "source": [
    "plt.scatter(df['Mileage'], df['Price'])\n",
    "plt.xlabel(\"Mileage\")\n",
    "plt.ylabel(\"Price\")"
   ]
  },
  {
   "cell_type": "code",
   "execution_count": 597,
   "metadata": {},
   "outputs": [
    {
     "name": "stdout",
     "output_type": "stream",
     "text": [
      "['Automatic', 'Manual']\n",
      "['petrol', 'HybridPetrol', 'petrol ', 'Diesel', 'Petrol', 'Diesel/Petrol', 'petrol/Diesel', 'Petrol-Electric', 'Diesel ', 'Electric', 'Automatic']\n",
      "0\n",
      "0\n",
      "0\n",
      "0\n",
      "id               int64\n",
      "Model           object\n",
      "Year             int64\n",
      "Company         object\n",
      "Price            int64\n",
      "Engine           int32\n",
      "FuelType         int32\n",
      "Transmission     int32\n",
      "Age              int32\n",
      "Mileage          int64\n",
      "dtype: object\n",
      "<bound method NDFrame.head of 0      0\n",
      "1      0\n",
      "2      0\n",
      "3      0\n",
      "4      1\n",
      "      ..\n",
      "310    0\n",
      "311    0\n",
      "312    0\n",
      "313    0\n",
      "314    0\n",
      "Name: FuelType, Length: 310, dtype: int32>\n",
      "<bound method NDFrame.head of 0      0\n",
      "1      0\n",
      "2      0\n",
      "3      0\n",
      "4      0\n",
      "      ..\n",
      "310    0\n",
      "311    0\n",
      "312    1\n",
      "313    0\n",
      "314    0\n",
      "Name: Transmission, Length: 310, dtype: int32>\n"
     ]
    }
   ],
   "source": [
    "transmission_types = [x for x in df['Transmission'].unique().tolist()]\n",
    "print(transmission_types)\n",
    "fuel_types = [x for x in df['FuelType'].unique().tolist()]\n",
    "print(fuel_types)\n",
    "tmission_number = 0\n",
    "\n",
    "for tmission in transmission_types:\n",
    "  df['Transmission'] = df['Transmission'].replace({str(tmission): str(tmission_number)})\n",
    "  tmission_number += 1\n",
    "ftype_number = 0\n",
    "for ftype in fuel_types:\n",
    "  df['FuelType'] = df['FuelType'].replace({str(ftype): str(ftype_number)})\n",
    "  ftype_number += 1\n",
    "print(df['Transmission'].isnull().sum())\n",
    "print(df['FuelType'].isnull().sum())\n",
    "df['Transmission'] = df['Transmission'].fillna(method='ffill')\n",
    "df['FuelType'] = df['FuelType'].fillna(method='ffill')\n",
    "print(df['Transmission'].isnull().sum())\n",
    "print(df['FuelType'].isnull().sum())\n",
    "df['Transmission'] = df['Transmission'].astype(float).astype(int)\n",
    "df['FuelType'] = df['FuelType'].astype(float).astype(int)\n",
    "print(df.dtypes)\n",
    "print(df['FuelType'].head)\n",
    "print(df['Transmission'].head)"
   ]
  },
  {
   "cell_type": "code",
   "execution_count": 598,
   "metadata": {},
   "outputs": [
    {
     "data": {
      "text/plain": [
       "array([4, 9, 3, 0, 1, 2, 5, 6, 7, 8])"
      ]
     },
     "execution_count": 598,
     "metadata": {},
     "output_type": "execute_result"
    }
   ],
   "source": [
    "# label_encoder object knows how to understand word labels. \n",
    "label_encoder = preprocessing.LabelEncoder() \n",
    "\n",
    "# Encode labels in column 'species'. \n",
    "df['Company']= label_encoder.fit_transform(df['Company']) \n",
    "\n",
    "df['Company'].unique() \n"
   ]
  },
  {
   "cell_type": "code",
   "execution_count": 599,
   "metadata": {},
   "outputs": [],
   "source": [
    "X = df[['Year','Engine','Age','Transmission','Mileage','Company']]\n",
    "y = df['Price']"
   ]
  },
  {
   "cell_type": "code",
   "execution_count": 600,
   "metadata": {},
   "outputs": [],
   "source": [
    "X_train,X_test,y_train,y_test = train_test_split(X,y,test_size=0.2)"
   ]
  },
  {
   "cell_type": "code",
   "execution_count": 601,
   "metadata": {},
   "outputs": [
    {
     "name": "stdout",
     "output_type": "stream",
     "text": [
      "     Year  Engine  Age  Transmission  Mileage  Company\n",
      "296  1996    1500   24             1   160000        8\n",
      "175  2001    1500   19             0   100000        5\n",
      "98   2017    1500    3             0    15412        9\n",
      "58   2015    1496    5             0    78000        4\n",
      "173  2001    1500   19             0   156000        5\n",
      "..    ...     ...  ...           ...      ...      ...\n",
      "201  2009    1300   11             0    37000        6\n",
      "314  2004    2500   16             0   130000        8\n",
      "301  1992    1800   28             1   150000        8\n",
      "240  2012    2500    8             0   140000        7\n",
      "41   2012    1300    8             0    41000        4\n",
      "\n",
      "[248 rows x 6 columns]\n"
     ]
    }
   ],
   "source": [
    "print(X_train) "
   ]
  },
  {
   "cell_type": "code",
   "execution_count": 602,
   "metadata": {},
   "outputs": [
    {
     "name": "stdout",
     "output_type": "stream",
     "text": [
      "     Year  Engine  Age  Transmission  Mileage  Company\n",
      "7    2015    1496    5             0    48500        4\n",
      "233  2009    1300   11             0    37000        6\n",
      "189  2001    1500   19             0   150000        6\n",
      "304  2000    1500   20             1   190000        8\n",
      "183  2011    2000    9             0   109533        5\n",
      "..    ...     ...  ...           ...      ...      ...\n",
      "137  1998    1300   22             1    35000        9\n",
      "94   2018    1500    2             0    31000        9\n",
      "114  2016    1000    4             0    18650        9\n",
      "215  2006    2835   14             0   144000        7\n",
      "27   2011    1300    9             0    52000        4\n",
      "\n",
      "[62 rows x 6 columns]\n"
     ]
    }
   ],
   "source": [
    "print(X_test)"
   ]
  },
  {
   "cell_type": "code",
   "execution_count": 603,
   "metadata": {},
   "outputs": [
    {
     "data": {
      "text/plain": [
       "Year            int64\n",
       "Engine          int32\n",
       "Age             int32\n",
       "Transmission    int32\n",
       "Mileage         int64\n",
       "Company         int32\n",
       "dtype: object"
      ]
     },
     "execution_count": 603,
     "metadata": {},
     "output_type": "execute_result"
    }
   ],
   "source": [
    "X_test.dtypes"
   ]
  },
  {
   "cell_type": "code",
   "execution_count": 604,
   "metadata": {},
   "outputs": [
    {
     "data": {
      "text/plain": [
       "LinearRegression(copy_X=True, fit_intercept=True, n_jobs=None, normalize=False)"
      ]
     },
     "execution_count": 604,
     "metadata": {},
     "output_type": "execute_result"
    }
   ],
   "source": [
    "clf = LinearRegression()\n",
    "clf.fit(X_train, y_train)"
   ]
  },
  {
   "cell_type": "code",
   "execution_count": 605,
   "metadata": {},
   "outputs": [
    {
     "data": {
      "text/plain": [
       "array([ 5782917.26485786,  3976842.10618344,  1615515.58819151,\n",
       "         477061.6731497 ,  5585055.76303646,  7270991.40955606,\n",
       "        1387797.88109288,  6604988.03277799,  8150769.24996781,\n",
       "        4767161.29898053,  5282445.03943425, -2634801.08701068,\n",
       "        3021422.68530816,  4517611.12101072,  6958809.88544697,\n",
       "        6564266.70336121,  9770731.35079527,  9690576.10228023,\n",
       "         453737.7348533 ,  7339695.90828323,  5913978.66062307,\n",
       "        6538143.42313302,  1982783.89078122,  5637930.42798862,\n",
       "        6320365.36523554,  5719080.17006221,  6832446.27827749,\n",
       "        6705878.28282598,  8185825.52057844,  7202286.91082892,\n",
       "        1217039.87474003,  5519500.33043128,  6958068.61480147,\n",
       "        5764596.06519729,   137125.34860963,  7339695.90828323,\n",
       "        5739617.85994783,  6327723.51839212,  3608621.55123037,\n",
       "        6461361.3797676 ,  5282256.36553869,  7504586.70522842,\n",
       "        5520111.4333593 ,  5911379.10676572,  5800744.51926011,\n",
       "        5585601.59335074,  2757750.59365141,  6414073.29568091,\n",
       "        4156711.9165667 ,  5247636.51903757,   752815.7486003 ,\n",
       "        5765405.22903359,  7160222.2794508 ,  6889700.02721679,\n",
       "        3505071.21492359,  6997482.66943112,  1296599.82140544,\n",
       "        1202511.82972285,  6163641.88528323,  4509920.38343453,\n",
       "        6320365.36523554,  4386645.68486139])"
      ]
     },
     "execution_count": 605,
     "metadata": {},
     "output_type": "execute_result"
    }
   ],
   "source": [
    "clf.predict(X_test)"
   ]
  },
  {
   "cell_type": "code",
   "execution_count": 606,
   "metadata": {},
   "outputs": [
    {
     "name": "stdout",
     "output_type": "stream",
     "text": [
      "7      4550000\n",
      "233    4200000\n",
      "189    1950000\n",
      "304    1275000\n",
      "183    3850000\n",
      "        ...   \n",
      "137    2250000\n",
      "94     6100000\n",
      "114    3500000\n",
      "215    7750000\n",
      "27     3300000\n",
      "Name: Price, Length: 62, dtype: int64\n"
     ]
    }
   ],
   "source": [
    "print(y_test)"
   ]
  },
  {
   "cell_type": "code",
   "execution_count": 607,
   "metadata": {},
   "outputs": [
    {
     "name": "stdout",
     "output_type": "stream",
     "text": [
      "0.7236442254479133\n"
     ]
    }
   ],
   "source": [
    "print(clf.score(X_test, y_test))"
   ]
  },
  {
   "cell_type": "code",
   "execution_count": 616,
   "metadata": {},
   "outputs": [
    {
     "data": {
      "text/plain": [
       "array([5952807.91093719])"
      ]
     },
     "execution_count": 616,
     "metadata": {},
     "output_type": "execute_result"
    }
   ],
   "source": [
    "clf.predict([[2025,1496,10,0,100000,4]])"
   ]
  }
 ],
 "metadata": {
  "kernelspec": {
   "display_name": "Python 3",
   "language": "python",
   "name": "python3"
  },
  "language_info": {
   "codemirror_mode": {
    "name": "ipython",
    "version": 3
   },
   "file_extension": ".py",
   "mimetype": "text/x-python",
   "name": "python",
   "nbconvert_exporter": "python",
   "pygments_lexer": "ipython3",
   "version": "3.7.0"
  }
 },
 "nbformat": 4,
 "nbformat_minor": 4
}
