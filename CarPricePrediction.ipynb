{
 "cells": [
  {
   "cell_type": "code",
   "execution_count": 158,
   "metadata": {},
   "outputs": [],
   "source": [
    "import pandas as pd\n",
    "import numpy as np\n",
    "import matplotlib.pyplot as plt\n",
    "from sklearn.model_selection import train_test_split\n",
    "from sklearn.linear_model import LinearRegression\n",
    "from sklearn import preprocessing\n",
    "from scipy.stats import zscore"
   ]
  },
  {
   "cell_type": "code",
   "execution_count": 166,
   "metadata": {},
   "outputs": [],
   "source": [
    "df = pd.read_csv(\"datasetnew3.csv\")"
   ]
  },
  {
   "cell_type": "code",
   "execution_count": 167,
   "metadata": {},
   "outputs": [
    {
     "data": {
      "text/plain": [
       "<bound method NDFrame.head of              id                       Model  Year     Company    Price Engine  \\\n",
       "0     200716453            Honda N Box 2018  2018       Honda  3400000   1310   \n",
       "1     200716455     Honda N WGN Custom 2018  2018       Honda  3800000    658   \n",
       "2     200716452       Honda S660 Alpha 2017  2017       Honda  3900000    658   \n",
       "3     200701070  Honda Fit GP5 S Grade 2018  2018       Honda  6200000   1496   \n",
       "4     200716458       Honda Fit GP5 DX 2018  2018       Honda  6700000   1496   \n",
       "...         ...                         ...   ...         ...      ...    ...   \n",
       "1276  200705595                         CK1  1999  Mitsubishi   800000   1200   \n",
       "1277  200481163                         CB1  1994  Mitsubishi  1280000   1500   \n",
       "1278  200677384                 Pajero Mini  1999  Mitsubishi  2650000   1500   \n",
       "1279  200693702                      petrol  2007  Mitsubishi  8100000   4000   \n",
       "1280  200693703                  CS1 Saloon  2004  Mitsubishi  1925000   1200   \n",
       "\n",
       "          FuelType Transmission  Age  \n",
       "0           petrol    Automatic    2  \n",
       "1           petrol    Automatic    2  \n",
       "2           petrol       Manual    3  \n",
       "3           petrol    Automatic    2  \n",
       "4     HybridPetrol    Automatic    2  \n",
       "...            ...          ...  ...  \n",
       "1276        petrol    Automatic   21  \n",
       "1277        petrol    Automatic   26  \n",
       "1278        petrol    Automatic   21  \n",
       "1279        petrol    Automatic   13  \n",
       "1280        petrol    Automatic   16  \n",
       "\n",
       "[1281 rows x 9 columns]>"
      ]
     },
     "execution_count": 167,
     "metadata": {},
     "output_type": "execute_result"
    }
   ],
   "source": [
    "df.head"
   ]
  },
  {
   "cell_type": "code",
   "execution_count": 168,
   "metadata": {},
   "outputs": [],
   "source": [
    "df[\"Transmission\"] = df[\"Transmission\"].astype(str)"
   ]
  },
  {
   "cell_type": "code",
   "execution_count": 169,
   "metadata": {},
   "outputs": [
    {
     "name": "stdout",
     "output_type": "stream",
     "text": [
      "0       2018\n",
      "1       2018\n",
      "2       2017\n",
      "3       2018\n",
      "4       2018\n",
      "        ... \n",
      "1276    1999\n",
      "1277    1994\n",
      "1278    1999\n",
      "1279    2007\n",
      "1280    2004\n",
      "Name: Year, Length: 1242, dtype: int64\n"
     ]
    }
   ],
   "source": [
    "df= df[(df['Year']>=1990)&(df['Year']<=2020)]\n",
    "print(df.Year)"
   ]
  },
  {
   "cell_type": "code",
   "execution_count": 170,
   "metadata": {},
   "outputs": [
    {
     "data": {
      "text/plain": [
       "Text(0, 0.5, 'Price')"
      ]
     },
     "execution_count": 170,
     "metadata": {},
     "output_type": "execute_result"
    },
    {
     "data": {
      "image/png": "[encoded data removed]",
      "text/plain": [
       "<Figure size 432x288 with 1 Axes>"
      ]
     },
     "metadata": {
      "needs_background": "light"
     },
     "output_type": "display_data"
    }
   ],
   "source": [
    "plt.scatter(df['Year'], df['Price'])\n",
    "plt.xlabel(\"Year\")\n",
    "plt.ylabel(\"Price\")"
   ]
  },
  {
   "cell_type": "code",
   "execution_count": 171,
   "metadata": {},
   "outputs": [
    {
     "data": {
      "text/plain": [
       "id               int64\n",
       "Model           object\n",
       "Year             int64\n",
       "Company         object\n",
       "Price            int64\n",
       "Engine          object\n",
       "FuelType        object\n",
       "Transmission    object\n",
       "Age              int64\n",
       "dtype: object"
      ]
     },
     "execution_count": 171,
     "metadata": {},
     "output_type": "execute_result"
    }
   ],
   "source": [
    "df.dtypes"
   ]
  },
  {
   "cell_type": "code",
   "execution_count": 172,
   "metadata": {},
   "outputs": [
    {
     "data": {
      "text/plain": [
       "id               int64\n",
       "Model           object\n",
       "Year             int64\n",
       "Company         object\n",
       "Price            int64\n",
       "Engine          object\n",
       "FuelType        object\n",
       "Transmission    object\n",
       "Age              int64\n",
       "dtype: object"
      ]
     },
     "execution_count": 172,
     "metadata": {},
     "output_type": "execute_result"
    }
   ],
   "source": [
    "df.dtypes"
   ]
  },
  {
   "cell_type": "code",
   "execution_count": 173,
   "metadata": {},
   "outputs": [],
   "source": [
    "df = df.astype({\"Engine\": int, \"Age\": int})"
   ]
  },
  {
   "cell_type": "code",
   "execution_count": 174,
   "metadata": {},
   "outputs": [
    {
     "data": {
      "text/plain": [
       "Text(0, 0.5, 'Price')"
      ]
     },
     "execution_count": 174,
     "metadata": {},
     "output_type": "execute_result"
    },
    {
     "data": {
      "image/png": "[encoded data removed]",
      "text/plain": [
       "<Figure size 432x288 with 1 Axes>"
      ]
     },
     "metadata": {
      "needs_background": "light"
     },
     "output_type": "display_data"
    }
   ],
   "source": [
    "plt.scatter(df['Engine'], df['Price'])\n",
    "plt.xlabel(\"Engine\")\n",
    "plt.ylabel(\"Price\")"
   ]
  },
  {
   "cell_type": "code",
   "execution_count": 175,
   "metadata": {},
   "outputs": [
    {
     "data": {
      "text/plain": [
       "Text(0, 0.5, 'Price')"
      ]
     },
     "execution_count": 175,
     "metadata": {},
     "output_type": "execute_result"
    },
    {
     "data": {
      "image/png": "[encoded data removed]",
      "text/plain": [
       "<Figure size 432x288 with 1 Axes>"
      ]
     },
     "metadata": {
      "needs_background": "light"
     },
     "output_type": "display_data"
    }
   ],
   "source": [
    "plt.scatter(df['Age'], df['Price'])\n",
    "plt.xlabel(\"Age\")\n",
    "plt.ylabel(\"Price\")"
   ]
  },
  {
   "cell_type": "code",
   "execution_count": 176,
   "metadata": {},
   "outputs": [
    {
     "data": {
      "text/plain": [
       "Text(0, 0.5, 'Price')"
      ]
     },
     "execution_count": 176,
     "metadata": {},
     "output_type": "execute_result"
    },
    {
     "data": {
      "image/png": "[encoded data removed]",
      "text/plain": [
       "<Figure size 432x288 with 1 Axes>"
      ]
     },
     "metadata": {
      "needs_background": "light"
     },
     "output_type": "display_data"
    }
   ],
   "source": [
    "plt.scatter(df['Transmission'], df['Price'])\n",
    "plt.xlabel(\"Transmission\")\n",
    "plt.ylabel(\"Price\")"
   ]
  },
  {
   "cell_type": "code",
   "execution_count": 177,
   "metadata": {},
   "outputs": [
    {
     "data": {
      "text/plain": [
       "Text(0, 0.5, 'Price')"
      ]
     },
     "execution_count": 177,
     "metadata": {},
     "output_type": "execute_result"
    },
    {
     "data": {
      "image/png": "[encoded data removed]",
      "text/plain": [
       "<Figure size 432x288 with 1 Axes>"
      ]
     },
     "metadata": {
      "needs_background": "light"
     },
     "output_type": "display_data"
    }
   ],
   "source": [
    "plt.scatter(df['Age'], df['Price'])\n",
    "plt.xlabel(\"Age\")\n",
    "plt.ylabel(\"Price\")"
   ]
  },
  {
   "cell_type": "code",
   "execution_count": 178,
   "metadata": {},
   "outputs": [],
   "source": [
    "df[\"FuelType\"] = df[\"FuelType\"].astype(str)"
   ]
  },
  {
   "cell_type": "code",
   "execution_count": 179,
   "metadata": {},
   "outputs": [
    {
     "data": {
      "text/plain": [
       "Text(0, 0.5, 'Price')"
      ]
     },
     "execution_count": 179,
     "metadata": {},
     "output_type": "execute_result"
    },
    {
     "data": {
      "image/png": "[encoded data removed]",
      "text/plain": [
       "<Figure size 432x288 with 1 Axes>"
      ]
     },
     "metadata": {
      "needs_background": "light"
     },
     "output_type": "display_data"
    }
   ],
   "source": [
    "plt.scatter(df['FuelType'], df['Price'])\n",
    "plt.xlabel(\"FuelType\")\n",
    "plt.ylabel(\"Price\")"
   ]
  },
  {
   "cell_type": "code",
   "execution_count": 180,
   "metadata": {},
   "outputs": [
    {
     "name": "stdout",
     "output_type": "stream",
     "text": [
      "['Automatic', 'Manual', 'nan']\n",
      "['petrol', 'HybridPetrol', 'Petrol-Electric', 'petrol ', 'hybrid ', 'Diesel', 'Petrol', 'petrol/Diesel', 'Electric', 'nan', 'Diesel/Petrol']\n",
      "0\n",
      "0\n",
      "0\n",
      "0\n",
      "id               int64\n",
      "Model           object\n",
      "Year             int64\n",
      "Company         object\n",
      "Price            int64\n",
      "Engine           int32\n",
      "FuelType         int32\n",
      "Transmission     int32\n",
      "Age              int32\n",
      "dtype: object\n",
      "<bound method NDFrame.head of 0       0\n",
      "1       0\n",
      "2       0\n",
      "3       0\n",
      "4       1\n",
      "       ..\n",
      "1276    0\n",
      "1277    0\n",
      "1278    0\n",
      "1279    0\n",
      "1280    0\n",
      "Name: FuelType, Length: 1242, dtype: int32>\n",
      "<bound method NDFrame.head of 0       0\n",
      "1       0\n",
      "2       1\n",
      "3       0\n",
      "4       0\n",
      "       ..\n",
      "1276    0\n",
      "1277    0\n",
      "1278    0\n",
      "1279    0\n",
      "1280    0\n",
      "Name: Transmission, Length: 1242, dtype: int32>\n"
     ]
    }
   ],
   "source": [
    "transmission_types = [x for x in df['Transmission'].unique().tolist()]\n",
    "print(transmission_types)\n",
    "fuel_types = [x for x in df['FuelType'].unique().tolist()]\n",
    "print(fuel_types)\n",
    "tmission_number = 0\n",
    "\n",
    "for tmission in transmission_types:\n",
    "  df['Transmission'] = df['Transmission'].replace({str(tmission): str(tmission_number)})\n",
    "  tmission_number += 1\n",
    "ftype_number = 0\n",
    "for ftype in fuel_types:\n",
    "  df['FuelType'] = df['FuelType'].replace({str(ftype): str(ftype_number)})\n",
    "  ftype_number += 1\n",
    "print(df['Transmission'].isnull().sum())\n",
    "print(df['FuelType'].isnull().sum())\n",
    "df['Transmission'] = df['Transmission'].fillna(method='ffill')\n",
    "df['FuelType'] = df['FuelType'].fillna(method='ffill')\n",
    "print(df['Transmission'].isnull().sum())\n",
    "print(df['FuelType'].isnull().sum())\n",
    "df['Transmission'] = df['Transmission'].astype(float).astype(int)\n",
    "df['FuelType'] = df['FuelType'].astype(float).astype(int)\n",
    "print(df.dtypes)\n",
    "print(df['FuelType'].head)\n",
    "print(df['Transmission'].head)"
   ]
  },
  {
   "cell_type": "code",
   "execution_count": 181,
   "metadata": {},
   "outputs": [],
   "source": [
    "X = df[['Year','Engine','FuelType','Age','Transmission']]\n",
    "y = df['Price']"
   ]
  },
  {
   "cell_type": "code",
   "execution_count": 182,
   "metadata": {},
   "outputs": [],
   "source": [
    "X_train,X_test,y_train,y_test = train_test_split(X,y,test_size=0.2)"
   ]
  },
  {
   "cell_type": "code",
   "execution_count": 183,
   "metadata": {},
   "outputs": [
    {
     "name": "stdout",
     "output_type": "stream",
     "text": [
      "      Year  Engine  FuelType  Age  Transmission\n",
      "516   2018    3000         1    2             0\n",
      "678   2010    1500         0   10             0\n",
      "519   2013    2000         1    7             0\n",
      "1257  2013    3200        10    7             0\n",
      "744   2016    1500         0    4             0\n",
      "...    ...     ...       ...  ...           ...\n",
      "1014  2018    1800         0    2             0\n",
      "838   2000    1300         0   20             1\n",
      "787   2014    1300         1    6             0\n",
      "354   2013    1200         1    7             0\n",
      "709   2014    1500         0    6             0\n",
      "\n",
      "[993 rows x 5 columns]\n"
     ]
    }
   ],
   "source": [
    "print(X_train) "
   ]
  },
  {
   "cell_type": "code",
   "execution_count": 184,
   "metadata": {},
   "outputs": [
    {
     "name": "stdout",
     "output_type": "stream",
     "text": [
      "      Year  Engine  FuelType  Age  Transmission\n",
      "57    2003    1997         0   17             0\n",
      "1024  2003    1300         0   17             1\n",
      "1262  2013    3200        10    7             0\n",
      "96    2018    1496         1    2             0\n",
      "170   2013    1200         1    7             1\n",
      "...    ...     ...       ...  ...           ...\n",
      "963   2001    1000         0   19             1\n",
      "958   1998    2000         0   22             1\n",
      "336   2013    3500         0    7             1\n",
      "635   1996    1000         0   24             2\n",
      "20    2018    1997         4    2             0\n",
      "\n",
      "[249 rows x 5 columns]\n"
     ]
    }
   ],
   "source": [
    "print(X_test)"
   ]
  },
  {
   "cell_type": "code",
   "execution_count": 185,
   "metadata": {},
   "outputs": [
    {
     "data": {
      "text/plain": [
       "LinearRegression(copy_X=True, fit_intercept=True, n_jobs=None, normalize=False)"
      ]
     },
     "execution_count": 185,
     "metadata": {},
     "output_type": "execute_result"
    }
   ],
   "source": [
    "clf = LinearRegression()\n",
    "clf.fit(X_train, y_train)"
   ]
  },
  {
   "cell_type": "code",
   "execution_count": 186,
   "metadata": {},
   "outputs": [
    {
     "data": {
      "text/plain": [
       "array([ 5590886.12574458,  2561712.43249553, 10459888.99098092,\n",
       "        7616790.2297163 ,  4395591.71494585,  6629825.46066338,\n",
       "        6780202.78536975,  1171942.31712264,  6186845.5655337 ,\n",
       "        5988306.97762322,  6577932.70555878,  7576615.68090659,\n",
       "        7219713.05389547, 10459888.99098092,  8169629.22468489,\n",
       "        6578276.38161659,  2359786.02874243,  6876181.63572007,\n",
       "        7582262.04064453,  8983324.87549329,  1770945.89669669,\n",
       "        6385384.15344411,   -19289.2103399 ,  6637730.36429644,\n",
       "        4592890.5025124 ,  5349157.5668745 ,  5814873.17333704,\n",
       "        8568964.94440091,  7762237.92668086, 15418599.11025834,\n",
       "         771477.32545906,  7233346.12802774,  8226039.06757981,\n",
       "        5001260.39780903,  6112080.16227674,  5993953.33736116,\n",
       "         549171.59576857,  6587310.55719721,  5874303.8459323 ,\n",
       "       10174556.40295583,  6385384.15344411,  7177279.96119058,\n",
       "        7616790.2297163 ,   377787.96548092,  7233346.12802774,\n",
       "        1370480.90503305,  8574954.9801966 ,  6583922.74135453,\n",
       "         -19289.2103399 ,  6310618.75018716,  8766223.5857088 ,\n",
       "        6375400.7604512 ,  9223249.09492224,   820788.74906915,\n",
       "        7576615.68090659,  1764170.26501113,  8574954.9801966 ,\n",
       "        6385384.15344411,  6231619.01289499,  4686707.3096689 ,\n",
       "        7264073.96130526,  5986048.4337281 ,  4557796.8059305 ,\n",
       "         777123.68519694,  5384704.49949765, 10375353.53476143,\n",
       "        6375400.7604512 ,  1974001.57239741,  5555601.0584181 ,\n",
       "         820788.74906915,   179249.37757051,  5387044.85415411,\n",
       "        5986048.4337281 ,  3359254.59998006,  7177279.96119058,\n",
       "        7267461.77714801,  7226570.49634224,  5190764.81013882,\n",
       "        2756863.20456326,  4557796.8059305 ,  8550618.95628816,\n",
       "        6375400.7604512 ,  1060815.66771781,  7378077.09299618,\n",
       "        6181199.20579576,  2760251.02040601,  4059385.00295305,\n",
       "       12568312.17735672,  7576615.68090659,  5089430.8452276 ,\n",
       "        3953741.09176368,  3359254.59998006,  6232748.28484255,\n",
       "        6629825.46066338,  7630423.30384856,  7068923.18923753,\n",
       "        1569019.49294347,  6866059.96510869,  8761706.49791843,\n",
       "        6866996.78548443,  9779737.77103019,  6866996.78548443,\n",
       "        8801784.54602671,  6033080.42498457,  5970873.54769677,\n",
       "        8574954.9801966 ,  7426238.35620022, 10174556.40295583,\n",
       "        8664007.52420646,  6570289.66722226,  2964435.96805429,\n",
       "        8773493.56810701,  6668458.19757402,   377787.96548092,\n",
       "        6986646.27691323,  3170879.45959789,  6383125.60954893,\n",
       "        8983324.87549329,  2164635.25667471,  5895412.30090219,\n",
       "        2642860.07287234, 11774157.82571507,  5787509.84581769,\n",
       "        2164635.25667471,  2756863.20456326,  6227020.1143434 ,\n",
       "        6583922.74135453,  6658474.80458111,  3948094.7320258 ,\n",
       "        9825640.49033904,  7576615.68090659,  7979339.21646535,\n",
       "        8560909.36611283,  2359786.02874243,  7026902.63648421,\n",
       "        4398979.53078854,  6937466.27015787,  3157328.19622684,\n",
       "        8983324.87549329,  9567153.56903601,  4150021.13577896,\n",
       "        7225441.22439462,  1764170.26501113,  1968355.21265948,\n",
       "        7225441.22439462,  7776283.54076463,  7624776.94411063,\n",
       "        3355866.78413725,  6836268.95220685,  7576615.68090659,\n",
       "        4789170.54652768,  6779073.51342219,  4206087.30261606,\n",
       "        1370480.90503305,  5986048.4337281 ,  8376416.39228618,\n",
       "        8424577.65549022,  6782461.32926494,  1764170.26501113,\n",
       "        7378077.09299618,  6876181.63572007,  4557796.8059305 ,\n",
       "        6632084.00455856,  1761911.72111601,  7375818.549101  ,\n",
       "        8424577.65549022,  6830622.59246898,  8362439.64209616,\n",
       "        5833412.56512654,  6632084.00455856,  5235154.43518358,\n",
       "        6782461.32926494,  6980999.91717535,  7624776.94411063,\n",
       "        7576615.68090659,  7624776.94411063,  5986048.4337281 ,\n",
       "        4746766.17145783, 10384387.71034211,  5986048.4337281 ,\n",
       "        8175619.26048058,  4392093.3707068 ,  4157926.03941202,\n",
       "        2012020.27653164,  8979937.0596506 ,  9627101.90242863,\n",
       "        3443278.72264284,  7179538.50508577,  5155136.06675446,\n",
       "        1962708.85292155,  8574954.9801966 ,  7376947.82104862,\n",
       "        7568628.96651226, 10375353.53476143,  6569877.12727076,\n",
       "       12057231.86984497,  2359786.02874243, 12057231.86984497,\n",
       "        7165492.891002  ,  7431884.71593815,  5583324.89816934,\n",
       "        4797075.45016074,  7225441.22439462,   380046.50937611,\n",
       "        7364031.47891241,  4789170.54652768,  6827234.77662623,\n",
       "        3557793.18789047,  3792959.34269094,  4441000.08354187,\n",
       "        6184587.02163851,  7630423.30384856, 12223913.3525303 ,\n",
       "        4987709.1344381 ,  5390432.6699968 ,  8169629.22468489,\n",
       "        6827234.77662623,  7177279.96119058,  3755202.50385326,\n",
       "        6299394.50420749,  2964435.96805429,   970015.91336948,\n",
       "        9578940.63922459,  9976017.81504542,  6431286.87275296,\n",
       "       -1064549.97249007,  6828364.04857379,  8465468.93629605,\n",
       "        1764170.26501113,  7227699.7682898 ,  1174200.86101782,\n",
       "        8422319.11159503,  8376416.39228618,  4392093.3707068 ,\n",
       "        7576615.68090659,  5739459.1110099 ,  5795414.74945074,\n",
       "         377787.96548092,  7227699.7682898 ,  8318106.37149417,\n",
       "        4397739.73044473,  6186845.5655337 ,  7021174.46598506,\n",
       "        6573939.34836161,  1565631.67710072,  2966694.51194948,\n",
       "        8939791.22847587, -1064549.97249007,  8761609.99721706])"
      ]
     },
     "execution_count": 186,
     "metadata": {},
     "output_type": "execute_result"
    }
   ],
   "source": [
    "clf.predict(X_test)"
   ]
  },
  {
   "cell_type": "code",
   "execution_count": 187,
   "metadata": {},
   "outputs": [
    {
     "name": "stdout",
     "output_type": "stream",
     "text": [
      "57       2830000\n",
      "1024     2840000\n",
      "1262     5950000\n",
      "96       7600000\n",
      "170      6360000\n",
      "          ...   \n",
      "963      1375000\n",
      "958      1790000\n",
      "336      6450000\n",
      "635      2075000\n",
      "20      10250000\n",
      "Name: Price, Length: 249, dtype: int64\n"
     ]
    }
   ],
   "source": [
    "print(y_test)"
   ]
  },
  {
   "cell_type": "code",
   "execution_count": 188,
   "metadata": {},
   "outputs": [
    {
     "name": "stdout",
     "output_type": "stream",
     "text": [
      "0.29557326518818117\n"
     ]
    }
   ],
   "source": [
    "print(clf.score(X_test, y_test))"
   ]
  }
 ],
 "metadata": {
  "kernelspec": {
   "display_name": "Python 3",
   "language": "python",
   "name": "python3"
  },
  "language_info": {
   "codemirror_mode": {
    "name": "ipython",
    "version": 3
   },
   "file_extension": ".py",
   "mimetype": "text/x-python",
   "name": "python",
   "nbconvert_exporter": "python",
   "pygments_lexer": "ipython3",
   "version": "3.7.0"
  }
 },
 "nbformat": 4,
 "nbformat_minor": 4
}
