{
 "cells": [
  {
   "cell_type": "code",
   "execution_count": 1145,
   "metadata": {},
   "outputs": [],
   "source": [
    "import pandas as pd\n",
    "import numpy as np\n",
    "import matplotlib.pyplot as plt\n",
    "from sklearn.model_selection import train_test_split\n",
    "from sklearn.linear_model import LinearRegression\n",
    "from sklearn import preprocessing\n",
    "from scipy.stats import zscore"
   ]
  },
  {
   "cell_type": "code",
   "execution_count": 1197,
   "metadata": {},
   "outputs": [],
   "source": [
    "df = pd.read_csv(\"datasetnewfinal1.csv\")"
   ]
  },
  {
   "cell_type": "code",
   "execution_count": 1198,
   "metadata": {},
   "outputs": [
    {
     "data": {
      "text/plain": [
       "<bound method NDFrame.head of             id                           Model  Year Company     Price  \\\n",
       "0    200716453                Honda N Box 2019  2019   Honda   3750000   \n",
       "1    200716455         Honda N WGN Custom 2018  2017   Honda   3300000   \n",
       "2    200716452           Honda S660 Alpha 2017  2017   Honda   3885000   \n",
       "3    200701070     Honda Fit GP5 RS Grade 2015  2015   Honda   3890000   \n",
       "4    200716458        Honda Fit GP5 Sport 2014  2014   Honda   3275000   \n",
       "..         ...                             ...   ...     ...       ...   \n",
       "517  200492963           Everest Luxury Model   2011    Ford  12000000   \n",
       "518  200492961                   Fiesta Black   2016    Ford   4250000   \n",
       "519  200492959    Raptor Ranger Biturbo White   2019    Ford  14700000   \n",
       "520  200492962           Raptor Ranger Biturbo  2019    Ford  13500000   \n",
       "521  200495859  Raptor Ranger Bi Turbo Edition  2019    Ford  13500000   \n",
       "\n",
       "     Engine      FuelType Transmission  Age  Mileage  Unnamed: 10  Unnamed: 11  \n",
       "0       660        petrol    Automatic    1     1850          NaN          NaN  \n",
       "1       658        petrol    Automatic    3    34000          NaN          NaN  \n",
       "2       658        petrol    Automatic    3    15000          NaN          NaN  \n",
       "3      1496  HybridPetrol    Automatic    5    80000          NaN          NaN  \n",
       "4      1496  HybridPetrol    Automatic    6    68000          NaN          NaN  \n",
       "..      ...           ...          ...  ...      ...          ...          ...  \n",
       "517    2400       Diesel     Automatic    9    96066          NaN          NaN  \n",
       "518    1000        petrol    Automatic    4    15000          NaN          NaN  \n",
       "519    2000       Diesel     Automatic    1        0          NaN          NaN  \n",
       "520    2000       Diesel     Automatic    1     6400          NaN          NaN  \n",
       "521    2000       Diesel     Automatic    1     6700          NaN          NaN  \n",
       "\n",
       "[522 rows x 12 columns]>"
      ]
     },
     "execution_count": 1198,
     "metadata": {},
     "output_type": "execute_result"
    }
   ],
   "source": [
    "df.head"
   ]
  },
  {
   "cell_type": "code",
   "execution_count": 1199,
   "metadata": {},
   "outputs": [],
   "source": [
    "df[\"Transmission\"] = df[\"Transmission\"].astype(str)"
   ]
  },
  {
   "cell_type": "code",
   "execution_count": 1200,
   "metadata": {},
   "outputs": [
    {
     "name": "stdout",
     "output_type": "stream",
     "text": [
      "0      2019\n",
      "1      2017\n",
      "2      2017\n",
      "3      2015\n",
      "4      2014\n",
      "       ... \n",
      "517    2011\n",
      "518    2016\n",
      "519    2019\n",
      "520    2019\n",
      "521    2019\n",
      "Name: Year, Length: 517, dtype: int64\n"
     ]
    }
   ],
   "source": [
    "df= df[(df['Year']>=1990)&(df['Year']<=2020)]\n",
    "print(df.Year)"
   ]
  },
  {
   "cell_type": "code",
   "execution_count": 1201,
   "metadata": {},
   "outputs": [
    {
     "data": {
      "text/plain": [
       "Text(0, 0.5, 'Price')"
      ]
     },
     "execution_count": 1201,
     "metadata": {},
     "output_type": "execute_result"
    },
    {
     "data": {
      "image/png": "[encoded data removed]",
      "text/plain": [
       "<Figure size 432x288 with 1 Axes>"
      ]
     },
     "metadata": {
      "needs_background": "light"
     },
     "output_type": "display_data"
    }
   ],
   "source": [
    "plt.scatter(df['Year'], df['Price'])\n",
    "plt.xlabel(\"Year\")\n",
    "plt.ylabel(\"Price\")"
   ]
  },
  {
   "cell_type": "code",
   "execution_count": 1202,
   "metadata": {},
   "outputs": [
    {
     "data": {
      "text/plain": [
       "id                int64\n",
       "Model            object\n",
       "Year              int64\n",
       "Company          object\n",
       "Price             int64\n",
       "Engine            int64\n",
       "FuelType         object\n",
       "Transmission     object\n",
       "Age               int64\n",
       "Mileage           int64\n",
       "Unnamed: 10     float64\n",
       "Unnamed: 11     float64\n",
       "dtype: object"
      ]
     },
     "execution_count": 1202,
     "metadata": {},
     "output_type": "execute_result"
    }
   ],
   "source": [
    "df.dtypes"
   ]
  },
  {
   "cell_type": "code",
   "execution_count": 1203,
   "metadata": {},
   "outputs": [
    {
     "data": {
      "text/plain": [
       "id                int64\n",
       "Model            object\n",
       "Year              int64\n",
       "Company          object\n",
       "Price             int64\n",
       "Engine            int64\n",
       "FuelType         object\n",
       "Transmission     object\n",
       "Age               int64\n",
       "Mileage           int64\n",
       "Unnamed: 10     float64\n",
       "Unnamed: 11     float64\n",
       "dtype: object"
      ]
     },
     "execution_count": 1203,
     "metadata": {},
     "output_type": "execute_result"
    }
   ],
   "source": [
    "df.dtypes"
   ]
  },
  {
   "cell_type": "code",
   "execution_count": 1204,
   "metadata": {},
   "outputs": [
    {
     "data": {
      "text/plain": [
       "Text(0, 0.5, 'Price')"
      ]
     },
     "execution_count": 1204,
     "metadata": {},
     "output_type": "execute_result"
    },
    {
     "data": {
      "image/png": "[encoded data removed]",
      "text/plain": [
       "<Figure size 432x288 with 1 Axes>"
      ]
     },
     "metadata": {
      "needs_background": "light"
     },
     "output_type": "display_data"
    }
   ],
   "source": [
    "plt.scatter(df['Company'], df['Price'])\n",
    "plt.xlabel(\"Company\")\n",
    "plt.ylabel(\"Price\")"
   ]
  },
  {
   "cell_type": "code",
   "execution_count": 1205,
   "metadata": {},
   "outputs": [],
   "source": [
    "df = df.astype({\"Engine\": int, \"Age\": int})"
   ]
  },
  {
   "cell_type": "code",
   "execution_count": 1206,
   "metadata": {},
   "outputs": [
    {
     "data": {
      "text/plain": [
       "Text(0, 0.5, 'Price')"
      ]
     },
     "execution_count": 1206,
     "metadata": {},
     "output_type": "execute_result"
    },
    {
     "data": {
      "image/png": "[encoded data removed]",
      "text/plain": [
       "<Figure size 432x288 with 1 Axes>"
      ]
     },
     "metadata": {
      "needs_background": "light"
     },
     "output_type": "display_data"
    }
   ],
   "source": [
    "plt.scatter(df['Engine'], df['Price'])\n",
    "plt.xlabel(\"Engine\")\n",
    "plt.ylabel(\"Price\")"
   ]
  },
  {
   "cell_type": "code",
   "execution_count": 1207,
   "metadata": {},
   "outputs": [
    {
     "data": {
      "text/plain": [
       "Text(0, 0.5, 'Price')"
      ]
     },
     "execution_count": 1207,
     "metadata": {},
     "output_type": "execute_result"
    },
    {
     "data": {
      "image/png": "[encoded data removed]",
      "text/plain": [
       "<Figure size 432x288 with 1 Axes>"
      ]
     },
     "metadata": {
      "needs_background": "light"
     },
     "output_type": "display_data"
    }
   ],
   "source": [
    "plt.scatter(df['Age'], df['Price'])\n",
    "plt.xlabel(\"Age\")\n",
    "plt.ylabel(\"Price\")"
   ]
  },
  {
   "cell_type": "code",
   "execution_count": 1208,
   "metadata": {},
   "outputs": [
    {
     "data": {
      "text/plain": [
       "Text(0, 0.5, 'Price')"
      ]
     },
     "execution_count": 1208,
     "metadata": {},
     "output_type": "execute_result"
    },
    {
     "data": {
      "image/png": "[encoded data removed]",
      "text/plain": [
       "<Figure size 432x288 with 1 Axes>"
      ]
     },
     "metadata": {
      "needs_background": "light"
     },
     "output_type": "display_data"
    }
   ],
   "source": [
    "plt.scatter(df['Transmission'], df['Price'])\n",
    "plt.xlabel(\"Transmission\")\n",
    "plt.ylabel(\"Price\")"
   ]
  },
  {
   "cell_type": "code",
   "execution_count": 1209,
   "metadata": {},
   "outputs": [],
   "source": [
    "df[\"FuelType\"] = df[\"FuelType\"].astype(str)"
   ]
  },
  {
   "cell_type": "code",
   "execution_count": 1210,
   "metadata": {},
   "outputs": [
    {
     "data": {
      "text/plain": [
       "Text(0, 0.5, 'Price')"
      ]
     },
     "execution_count": 1210,
     "metadata": {},
     "output_type": "execute_result"
    },
    {
     "data": {
      "image/png": "[encoded data removed]",
      "text/plain": [
       "<Figure size 432x288 with 1 Axes>"
      ]
     },
     "metadata": {
      "needs_background": "light"
     },
     "output_type": "display_data"
    }
   ],
   "source": [
    "plt.scatter(df['FuelType'], df['Price'])\n",
    "plt.xlabel(\"FuelType\")\n",
    "plt.ylabel(\"Price\")"
   ]
  },
  {
   "cell_type": "code",
   "execution_count": 1211,
   "metadata": {},
   "outputs": [
    {
     "data": {
      "text/plain": [
       "Text(0, 0.5, 'Price')"
      ]
     },
     "execution_count": 1211,
     "metadata": {},
     "output_type": "execute_result"
    },
    {
     "data": {
      "image/png": "[encoded data removed]",
      "text/plain": [
       "<Figure size 432x288 with 1 Axes>"
      ]
     },
     "metadata": {
      "needs_background": "light"
     },
     "output_type": "display_data"
    }
   ],
   "source": [
    "plt.scatter(df['Mileage'], df['Price'])\n",
    "plt.xlabel(\"Mileage\")\n",
    "plt.ylabel(\"Price\")"
   ]
  },
  {
   "cell_type": "code",
   "execution_count": 1212,
   "metadata": {},
   "outputs": [
    {
     "name": "stdout",
     "output_type": "stream",
     "text": [
      "['Automatic', 'Manual']\n",
      "['petrol', 'HybridPetrol', 'petrol ', 'Diesel', 'Petrol', 'Diesel ', 'Electric', 'Automatic']\n",
      "0\n",
      "0\n",
      "0\n",
      "0\n",
      "id                int64\n",
      "Model            object\n",
      "Year              int64\n",
      "Company          object\n",
      "Price             int64\n",
      "Engine            int32\n",
      "FuelType          int32\n",
      "Transmission      int32\n",
      "Age               int32\n",
      "Mileage           int64\n",
      "Unnamed: 10     float64\n",
      "Unnamed: 11     float64\n",
      "dtype: object\n",
      "<bound method NDFrame.head of 0      0\n",
      "1      0\n",
      "2      0\n",
      "3      1\n",
      "4      1\n",
      "      ..\n",
      "517    5\n",
      "518    0\n",
      "519    5\n",
      "520    5\n",
      "521    5\n",
      "Name: FuelType, Length: 517, dtype: int32>\n",
      "<bound method NDFrame.head of 0      0\n",
      "1      0\n",
      "2      0\n",
      "3      0\n",
      "4      0\n",
      "      ..\n",
      "517    0\n",
      "518    0\n",
      "519    0\n",
      "520    0\n",
      "521    0\n",
      "Name: Transmission, Length: 517, dtype: int32>\n"
     ]
    }
   ],
   "source": [
    "transmission_types = [x for x in df['Transmission'].unique().tolist()]\n",
    "print(transmission_types)\n",
    "fuel_types = [x for x in df['FuelType'].unique().tolist()]\n",
    "print(fuel_types)\n",
    "tmission_number = 0\n",
    "\n",
    "for tmission in transmission_types:\n",
    "  df['Transmission'] = df['Transmission'].replace({str(tmission): str(tmission_number)})\n",
    "  tmission_number += 1\n",
    "ftype_number = 0\n",
    "for ftype in fuel_types:\n",
    "  df['FuelType'] = df['FuelType'].replace({str(ftype): str(ftype_number)})\n",
    "  ftype_number += 1\n",
    "print(df['Transmission'].isnull().sum())\n",
    "print(df['FuelType'].isnull().sum())\n",
    "df['Transmission'] = df['Transmission'].fillna(method='ffill')\n",
    "df['FuelType'] = df['FuelType'].fillna(method='ffill')\n",
    "print(df['Transmission'].isnull().sum())\n",
    "print(df['FuelType'].isnull().sum())\n",
    "df['Transmission'] = df['Transmission'].astype(float).astype(int)\n",
    "df['FuelType'] = df['FuelType'].astype(float).astype(int)\n",
    "print(df.dtypes)\n",
    "print(df['FuelType'].head)\n",
    "print(df['Transmission'].head)"
   ]
  },
  {
   "cell_type": "code",
   "execution_count": 1213,
   "metadata": {},
   "outputs": [
    {
     "data": {
      "text/plain": [
       "array([ 5, 15,  3,  0,  1,  2,  7, 10, 11, 12,  9,  8, 13,  6, 14,  4])"
      ]
     },
     "execution_count": 1213,
     "metadata": {},
     "output_type": "execute_result"
    }
   ],
   "source": [
    "# label_encoder object knows how to understand word labels. \n",
    "label_encoder = preprocessing.LabelEncoder() \n",
    "\n",
    "# Encode labels in column 'species'. \n",
    "df['Company']= label_encoder.fit_transform(df['Company']) \n",
    "\n",
    "df['Company'].unique() \n"
   ]
  },
  {
   "cell_type": "code",
   "execution_count": 1214,
   "metadata": {},
   "outputs": [],
   "source": [
    "X = df[['Year','Engine','Age','Transmission','Mileage','Company']]\n",
    "y = df['Price']"
   ]
  },
  {
   "cell_type": "code",
   "execution_count": 1215,
   "metadata": {},
   "outputs": [],
   "source": [
    "X_train,X_test,y_train,y_test = train_test_split(X,y,test_size=0.2)"
   ]
  },
  {
   "cell_type": "code",
   "execution_count": 1216,
   "metadata": {},
   "outputs": [
    {
     "name": "stdout",
     "output_type": "stream",
     "text": [
      "     Year  Engine  Age  Transmission  Mileage  Company\n",
      "19   2018    1496    2             0    25000        5\n",
      "124  1990    1323   30             1   280000        3\n",
      "207  2012    2500    8             0   105000       11\n",
      "121  1990    1323   30             1   270000        3\n",
      "162  2017    1000    3             0    31350        0\n",
      "..    ...     ...  ...           ...      ...      ...\n",
      "304  2001    1500   19             0   162500       12\n",
      "3    2015    1496    5             0    80000        5\n",
      "153  2018    1000    2             0     9200        0\n",
      "435  2017    1000    3             0     8000       14\n",
      "274  2018     650    2             0     7000       12\n",
      "\n",
      "[413 rows x 6 columns]\n"
     ]
    }
   ],
   "source": [
    "print(X_train) "
   ]
  },
  {
   "cell_type": "code",
   "execution_count": 1217,
   "metadata": {},
   "outputs": [
    {
     "name": "stdout",
     "output_type": "stream",
     "text": [
      "     Year  Engine  Age  Transmission  Mileage  Company\n",
      "329  2014    1500    6             0    98000       15\n",
      "359  2007    1000   13             0   106000       15\n",
      "137  2015    1800    5             0    61000        0\n",
      "117  2008    1300   12             0   108000       15\n",
      "89   2018    1000    2             0     9000       15\n",
      "..    ...     ...  ...           ...      ...      ...\n",
      "43   2004    1500   16             0   170998        5\n",
      "4    2014    1496    6             0    68000        5\n",
      "365  2010    2000   10             0    90000        9\n",
      "471  2008    1300   12             0   118000       14\n",
      "267  2016     650    4             0    46000       12\n",
      "\n",
      "[104 rows x 6 columns]\n"
     ]
    }
   ],
   "source": [
    "print(X_test)"
   ]
  },
  {
   "cell_type": "code",
   "execution_count": 1218,
   "metadata": {},
   "outputs": [
    {
     "data": {
      "text/plain": [
       "Year            int64\n",
       "Engine          int32\n",
       "Age             int32\n",
       "Transmission    int32\n",
       "Mileage         int64\n",
       "Company         int32\n",
       "dtype: object"
      ]
     },
     "execution_count": 1218,
     "metadata": {},
     "output_type": "execute_result"
    }
   ],
   "source": [
    "X_test.dtypes"
   ]
  },
  {
   "cell_type": "code",
   "execution_count": 1219,
   "metadata": {},
   "outputs": [
    {
     "data": {
      "text/plain": [
       "LinearRegression(copy_X=True, fit_intercept=True, n_jobs=None, normalize=False)"
      ]
     },
     "execution_count": 1219,
     "metadata": {},
     "output_type": "execute_result"
    }
   ],
   "source": [
    "clf = LinearRegression()\n",
    "clf.fit(X_train, y_train)"
   ]
  },
  {
   "cell_type": "code",
   "execution_count": 1220,
   "metadata": {
    "scrolled": true
   },
   "outputs": [
    {
     "data": {
      "text/plain": [
       "array([4556503.71981966, 1706911.89876807, 6814819.98046005,\n",
       "       2675687.51629138, 4868964.60179019, 1331441.52624881,\n",
       "       3576214.34195602, 3248303.9304961 , 4073225.14393437,\n",
       "        703331.30368173, 4237276.32374859, 4209178.35435379,\n",
       "       5098024.22368205, 3112441.60918033, 4076746.15349281,\n",
       "       3819854.75938356, 4874752.20182884, 5792178.35515642,\n",
       "       6395150.27128398, 4360750.18075275, 1404388.67224014,\n",
       "       4337146.26976538, 5338836.74244785, 8381012.72650397,\n",
       "       4043850.27203226, 6079915.25079799, 9210022.50190568,\n",
       "       -687429.00601768, 4806080.68821073, 3735753.78893709,\n",
       "       1821074.96611047, 1635474.11381745, 5524974.05795133,\n",
       "       1685587.72392333, 2967976.15788162, 7008258.34078908,\n",
       "       5155703.30905151, 5618210.62865531, 6104972.05585086,\n",
       "       5842789.50124073, 1533915.66114497, 5959346.24204767,\n",
       "       1609086.07630372, 6680688.69399619, 7086598.38179362,\n",
       "       8436972.9244554 , 7897684.27018154, 2544370.85124445,\n",
       "       2620456.85695565, 3102404.32763553, 4803685.56805706,\n",
       "       4325583.3570832 , 1806602.27899671, 5107596.43801129,\n",
       "       9278204.20382762, 1942758.35791063, 5232162.88418019,\n",
       "       4777865.88895762, 4893534.7339437 , 5932768.88890851,\n",
       "       2939492.39984393, 5970012.12916541, 9395135.96074116,\n",
       "       5177210.64124751, 5769761.71000099, 6151326.16203964,\n",
       "       6184734.96765161, 7108485.5610007 , 6196847.00771141,\n",
       "       6953040.63858235, 5679980.94022489, 1663955.4536165 ,\n",
       "       5757483.27118814, 5436328.97158456, 4020622.61374819,\n",
       "       2618008.43092191, 1599906.26417208, 6117916.82084394,\n",
       "       3058772.24862421, 4916158.53915453, 5815994.33535743,\n",
       "       5964183.7784338 , 7228758.22525454, 3944122.25868905,\n",
       "       7200443.92146826, 4785366.42669523, 6020912.53235853,\n",
       "       1784465.76027083, 6342155.57929015, 2314259.75630987,\n",
       "       5390855.98284853,  643332.58974385, 5802630.7059958 ,\n",
       "       5768592.06103444, 6388283.81012738, 3069927.65325475,\n",
       "       1403630.82892931,  523351.82703936, 5520527.7809782 ,\n",
       "       2451264.46243572, 5439317.5867883 , 5439733.7388643 ,\n",
       "       2656418.31127715, 3424791.33192337])"
      ]
     },
     "execution_count": 1220,
     "metadata": {},
     "output_type": "execute_result"
    }
   ],
   "source": [
    "clf.predict(X_test)"
   ]
  },
  {
   "cell_type": "code",
   "execution_count": 1221,
   "metadata": {
    "scrolled": false
   },
   "outputs": [
    {
     "name": "stdout",
     "output_type": "stream",
     "text": [
      "329    3300000\n",
      "359    2575000\n",
      "137    9500000\n",
      "117    3050000\n",
      "89     4495000\n",
      "        ...   \n",
      "43     2650000\n",
      "4      3275000\n",
      "365    3890000\n",
      "471    2700000\n",
      "267    2650000\n",
      "Name: Price, Length: 104, dtype: int64\n"
     ]
    }
   ],
   "source": [
    "print(y_test)"
   ]
  },
  {
   "cell_type": "code",
   "execution_count": 1222,
   "metadata": {
    "scrolled": true
   },
   "outputs": [
    {
     "name": "stdout",
     "output_type": "stream",
     "text": [
      "0.7053089226728689\n"
     ]
    }
   ],
   "source": [
    "print(clf.score(X_test, y_test))"
   ]
  },
  {
   "cell_type": "code",
   "execution_count": 1223,
   "metadata": {
    "scrolled": true
   },
   "outputs": [
    {
     "data": {
      "text/plain": [
       "array([6890988.80750263])"
      ]
     },
     "execution_count": 1223,
     "metadata": {},
     "output_type": "execute_result"
    }
   ],
   "source": [
    "clf.predict([[2025,1000,5,0,200000,9]])"
   ]
  }
 ],
 "metadata": {
  "kernelspec": {
   "display_name": "Python 3",
   "language": "python",
   "name": "python3"
  },
  "language_info": {
   "codemirror_mode": {
    "name": "ipython",
    "version": 3
   },
   "file_extension": ".py",
   "mimetype": "text/x-python",
   "name": "python",
   "nbconvert_exporter": "python",
   "pygments_lexer": "ipython3",
   "version": "3.7.0"
  }
 },
 "nbformat": 4,
 "nbformat_minor": 4
}
