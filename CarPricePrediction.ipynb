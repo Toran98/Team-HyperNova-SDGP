{
 "cells": [
  {
   "cell_type": "code",
   "execution_count": 1,
   "metadata": {},
   "outputs": [],
   "source": [
    "import pandas as pd\n",
    "import matplotlib.pyplot as plt\n",
    "from sklearn.model_selection import train_test_split\n",
    "from sklearn.linear_model import LinearRegression\n",
    "from sklearn import preprocessing"
   ]
  },
  {
   "cell_type": "code",
   "execution_count": 2,
   "metadata": {},
   "outputs": [],
   "source": [
    "df = pd.read_csv(\"datasetnew3.csv\")\n"
   ]
  },
  {
   "cell_type": "code",
   "execution_count": 3,
   "metadata": {},
   "outputs": [
    {
     "data": {
      "text/plain": [
       "<bound method NDFrame.tail of              id                       Model  Year     Company    Price Engine  \\\n",
       "0     200716453            Honda N Box 2018  2018       Honda  3400000   1310   \n",
       "1     200716455     Honda N WGN Custom 2018  2018       Honda  3800000    658   \n",
       "2     200716452       Honda S660 Alpha 2017  2017       Honda  3900000    658   \n",
       "3     200701070  Honda Fit GP5 S Grade 2018  2018       Honda  6200000   1496   \n",
       "4     200716458       Honda Fit GP5 DX 2018  2018       Honda  6700000   1496   \n",
       "...         ...                         ...   ...         ...      ...    ...   \n",
       "1305  200705595                         CK1  1999  Mitsubishi   800000   1200   \n",
       "1306  200481163                         CB1  1994  Mitsubishi  1280000   1500   \n",
       "1307  200677384                 Pajero Mini  1999  Mitsubishi  2650000   1500   \n",
       "1308  200693702                      petrol  2007  Mitsubishi  8100000   4000   \n",
       "1309  200693703                  CS1 Saloon  2004  Mitsubishi  1925000   1200   \n",
       "\n",
       "          FuelType Transmission  \n",
       "0           petrol    Automatic  \n",
       "1           petrol    Automatic  \n",
       "2           petrol       Manual  \n",
       "3           petrol    Automatic  \n",
       "4     HybridPetrol    Automatic  \n",
       "...            ...          ...  \n",
       "1305        petrol    Automatic  \n",
       "1306        petrol    Automatic  \n",
       "1307        petrol    Automatic  \n",
       "1308        petrol    Automatic  \n",
       "1309        petrol    Automatic  \n",
       "\n",
       "[1310 rows x 8 columns]>"
      ]
     },
     "execution_count": 3,
     "metadata": {},
     "output_type": "execute_result"
    }
   ],
   "source": [
    "df.tail"
   ]
  },
  {
   "cell_type": "code",
   "execution_count": 26,
   "metadata": {},
   "outputs": [
    {
     "data": {
      "text/plain": [
       "Text(0, 0.5, 'Price')"
      ]
     },
     "execution_count": 26,
     "metadata": {},
     "output_type": "execute_result"
    },
    {
     "data": {
      "image/png": "[encoded data removed]",
      "text/plain": [
       "<Figure size 432x288 with 1 Axes>"
      ]
     },
     "metadata": {
      "needs_background": "light"
     },
     "output_type": "display_data"
    }
   ],
   "source": [
    "plt.scatter(df['Year'], df['Price'])\n",
    "plt.xlabel(\"Year\")\n",
    "plt.ylabel(\"Price\")"
   ]
  },
  {
   "cell_type": "code",
   "execution_count": 5,
   "metadata": {},
   "outputs": [
    {
     "data": {
      "text/plain": [
       "id               int64\n",
       "Model           object\n",
       "Year             int64\n",
       "Company         object\n",
       "Price            int64\n",
       "Engine          object\n",
       "FuelType        object\n",
       "Transmission    object\n",
       "dtype: object"
      ]
     },
     "execution_count": 5,
     "metadata": {},
     "output_type": "execute_result"
    }
   ],
   "source": [
    "df.dtypes"
   ]
  },
  {
   "cell_type": "code",
   "execution_count": 6,
   "metadata": {},
   "outputs": [],
   "source": [
    "df[\"Transmission\"] = df[\"Transmission\"].astype(str)"
   ]
  },
  {
   "cell_type": "code",
   "execution_count": 7,
   "metadata": {},
   "outputs": [
    {
     "data": {
      "text/plain": [
       "id               int64\n",
       "Model           object\n",
       "Year             int64\n",
       "Company         object\n",
       "Price            int64\n",
       "Engine          object\n",
       "FuelType        object\n",
       "Transmission    object\n",
       "dtype: object"
      ]
     },
     "execution_count": 7,
     "metadata": {},
     "output_type": "execute_result"
    }
   ],
   "source": [
    "df.dtypes"
   ]
  },
  {
   "cell_type": "code",
   "execution_count": 8,
   "metadata": {},
   "outputs": [],
   "source": [
    "df = df.astype({\"Engine\": int})"
   ]
  },
  {
   "cell_type": "code",
   "execution_count": 9,
   "metadata": {},
   "outputs": [
    {
     "data": {
      "text/plain": [
       "Text(0, 0.5, 'Engine')"
      ]
     },
     "execution_count": 9,
     "metadata": {},
     "output_type": "execute_result"
    },
    {
     "data": {
      "image/png": "[encoded data removed]",
      "text/plain": [
       "<Figure size 432x288 with 1 Axes>"
      ]
     },
     "metadata": {
      "needs_background": "light"
     },
     "output_type": "display_data"
    }
   ],
   "source": [
    "plt.scatter(df['Engine'], df['Price'])\n",
    "plt.xlabel(\"Price\")\n",
    "plt.ylabel(\"Engine\")"
   ]
  },
  {
   "cell_type": "code",
   "execution_count": 89,
   "metadata": {},
   "outputs": [
    {
     "data": {
      "text/plain": [
       "Text(0, 0.5, 'Transmission')"
      ]
     },
     "execution_count": 89,
     "metadata": {},
     "output_type": "execute_result"
    },
    {
     "data": {
      "image/png": "[encoded data removed]",
      "text/plain": [
       "<Figure size 432x288 with 1 Axes>"
      ]
     },
     "metadata": {
      "needs_background": "light"
     },
     "output_type": "display_data"
    }
   ],
   "source": [
    "plt.scatter(df['Transmission'], df['Price'])\n",
    "plt.xlabel(\"Price\")\n",
    "plt.ylabel(\"Transmission\")"
   ]
  },
  {
   "cell_type": "code",
   "execution_count": 92,
   "metadata": {},
   "outputs": [],
   "source": [
    "df[\"FuelType\"] = df[\"FuelType\"].astype(str)"
   ]
  },
  {
   "cell_type": "code",
   "execution_count": 129,
   "metadata": {},
   "outputs": [
    {
     "data": {
      "text/plain": [
       "Text(0, 0.5, 'FuelType')"
      ]
     },
     "execution_count": 129,
     "metadata": {},
     "output_type": "execute_result"
    },
    {
     "data": {
      "image/png": "[encoded data removed]",
      "text/plain": [
       "<Figure size 432x288 with 1 Axes>"
      ]
     },
     "metadata": {
      "needs_background": "light"
     },
     "output_type": "display_data"
    }
   ],
   "source": [
    "plt.scatter(df['FuelType'], df['Price'])\n",
    "plt.xlabel(\"Price\")\n",
    "plt.ylabel(\"FuelType\")"
   ]
  },
  {
   "cell_type": "code",
   "execution_count": 10,
   "metadata": {},
   "outputs": [
    {
     "name": "stdout",
     "output_type": "stream",
     "text": [
      "['Automatic', 'Manual', 'nan']\n",
      "['petrol', 'HybridPetrol', 'Petrol-Electric', 'petrol ', 'hybrid ', 'Diesel', 'Petrol', 'petrol/Diesel', 'Electric', nan, 'Diesel/Petrol']\n",
      "0\n",
      "1\n",
      "0\n",
      "0\n",
      "id               int64\n",
      "Model           object\n",
      "Year             int64\n",
      "Company         object\n",
      "Price            int64\n",
      "Engine           int32\n",
      "FuelType         int32\n",
      "Transmission     int32\n",
      "dtype: object\n",
      "<bound method NDFrame.head of 0       0\n",
      "1       0\n",
      "2       0\n",
      "3       0\n",
      "4       1\n",
      "       ..\n",
      "1305    0\n",
      "1306    0\n",
      "1307    0\n",
      "1308    0\n",
      "1309    0\n",
      "Name: FuelType, Length: 1310, dtype: int32>\n",
      "<bound method NDFrame.head of 0       0\n",
      "1       0\n",
      "2       1\n",
      "3       0\n",
      "4       0\n",
      "       ..\n",
      "1305    0\n",
      "1306    0\n",
      "1307    0\n",
      "1308    0\n",
      "1309    0\n",
      "Name: Transmission, Length: 1310, dtype: int32>\n"
     ]
    }
   ],
   "source": [
    "transmission_types = [x for x in df['Transmission'].unique().tolist()]\n",
    "print(transmission_types)\n",
    "fuel_types = [x for x in df['FuelType'].unique().tolist()]\n",
    "print(fuel_types)\n",
    "tmission_number = 0\n",
    "\n",
    "for tmission in transmission_types:\n",
    "  df['Transmission'] = df['Transmission'].replace({str(tmission): str(tmission_number)})\n",
    "  tmission_number += 1\n",
    "ftype_number = 0\n",
    "for ftype in fuel_types:\n",
    "  df['FuelType'] = df['FuelType'].replace({str(ftype): str(ftype_number)})\n",
    "  ftype_number += 1\n",
    "print(df['Transmission'].isnull().sum())\n",
    "print(df['FuelType'].isnull().sum())\n",
    "df['Transmission'] = df['Transmission'].fillna(method='ffill')\n",
    "df['FuelType'] = df['FuelType'].fillna(method='ffill')\n",
    "print(df['Transmission'].isnull().sum())\n",
    "print(df['FuelType'].isnull().sum())\n",
    "df['Transmission'] = df['Transmission'].astype(float).astype(int)\n",
    "df['FuelType'] = df['FuelType'].astype(float).astype(int)\n",
    "print(df.dtypes)\n",
    "print(df['FuelType'].head)\n",
    "print(df['Transmission'].head)"
   ]
  },
  {
   "cell_type": "code",
   "execution_count": 13,
   "metadata": {},
   "outputs": [],
   "source": [
    "X = df[['Year','Engine','Transmission','FuelType']]\n",
    "y = df['Price']"
   ]
  },
  {
   "cell_type": "code",
   "execution_count": 14,
   "metadata": {},
   "outputs": [],
   "source": [
    "X_train,X_test,y_train,y_test = train_test_split(X,y,test_size=0.2)"
   ]
  },
  {
   "cell_type": "code",
   "execution_count": 15,
   "metadata": {},
   "outputs": [
    {
     "name": "stdout",
     "output_type": "stream",
     "text": [
      "      Year  Engine  Transmission  FuelType\n",
      "905   2002    1300             1         0\n",
      "339   1983     216             1         0\n",
      "1200  2018    1800             0         0\n",
      "393   2017    2000             0         8\n",
      "607   2003    1600             1         0\n",
      "...    ...     ...           ...       ...\n",
      "126   1990    1323             1         0\n",
      "104   2018    1400             0         1\n",
      "342   2006     216             1         0\n",
      "6     2018    1496             0         1\n",
      "71    2017    1496             0         1\n",
      "\n",
      "[1048 rows x 4 columns]\n"
     ]
    }
   ],
   "source": [
    "print(X_train) "
   ]
  },
  {
   "cell_type": "code",
   "execution_count": 16,
   "metadata": {},
   "outputs": [
    {
     "name": "stdout",
     "output_type": "stream",
     "text": [
      "      Year  Engine  Transmission  FuelType\n",
      "1001  2001    1000             1         0\n",
      "40    2009    1993             0         5\n",
      "228   2016    1350             0         0\n",
      "737   2014    1500             0         0\n",
      "1162  2000    1800             1         0\n",
      "...    ...     ...           ...       ...\n",
      "953   2008    2400             0        10\n",
      "877   2014    2700             0         0\n",
      "1254  2010    1500             0        10\n",
      "840   2012    1495             0         0\n",
      "971   2007    2000             1        10\n",
      "\n",
      "[262 rows x 4 columns]\n"
     ]
    }
   ],
   "source": [
    "print(X_test)"
   ]
  },
  {
   "cell_type": "code",
   "execution_count": 18,
   "metadata": {},
   "outputs": [
    {
     "data": {
      "text/plain": [
       "LinearRegression(copy_X=True, fit_intercept=True, n_jobs=None, normalize=False)"
      ]
     },
     "execution_count": 18,
     "metadata": {},
     "output_type": "execute_result"
    }
   ],
   "source": [
    "clf = LinearRegression()\n",
    "clf.fit(X_train, y_train)"
   ]
  },
  {
   "cell_type": "code",
   "execution_count": 20,
   "metadata": {},
   "outputs": [
    {
     "data": {
      "text/plain": [
       "array([ 1791011.54903461,  7860869.97200941,  6385082.28741845,\n",
       "        6667659.06304692,  3297064.28576702,   377386.58816787,\n",
       "        3672598.1820643 ,  1204124.22953186,  7610146.28293184,\n",
       "        7232812.61430386,  7661910.08574391,  6720163.9485834 ,\n",
       "        2355424.01756714,  1790588.07319209,  3108820.92729555,\n",
       "        7043828.17310798,  6292336.9046709 ,  6984648.9880034 ,\n",
       "        6667659.06304692,  6720163.9485834 ,  3297064.28576702,\n",
       "        6713057.69008706,  2397978.90729117,  7662015.95470454,\n",
       "        6720587.42442592,  7285635.10672222,  6290748.87026146,\n",
       "        2920048.22402093,  6292231.03571028,  1791223.28695587,\n",
       "        8627761.52371271,  4202834.61649992,  6291172.34610398,\n",
       "        6343888.96956171,  6637777.31286992,  6149975.03068215,\n",
       "        7231965.66261882,  6290960.60818272,  6291172.34610398,\n",
       "        3672492.31310367,  7279246.72324367,  7661486.60990139,\n",
       "        6103458.33243565,   283264.90893213,  6720163.9485834 ,\n",
       "        5967719.85950066,  6720163.9485834 ,  7655392.55365078,\n",
       "        2355635.7554884 ,  8926896.97158648,  2355953.36237029,\n",
       "        2729098.68798632,  9867690.28810132,  6417727.35520811,\n",
       "        2732545.94827386,  2360188.12079547,   313383.84628757,\n",
       "        6720163.9485834 ,  6149975.03068215,  9868007.89498321,\n",
       "        2732016.60347072,  5726759.87757145,  6720799.16234718,\n",
       "        7595698.82031128,  6667764.93200755,  2356376.83821281,\n",
       "        6532344.06595445,  6343783.10060108,  6155857.3490115 ,\n",
       "        2356906.18301596,  6667129.71824377,  6102611.38075062,\n",
       "        6720269.81754403,  9868007.89498321,  6417727.35520811,\n",
       "        3676303.59568634,  7197683.75956128,   377386.58816787,\n",
       "        2356588.57613407,  6343677.23164046,  7814481.41323984,\n",
       "        4202517.00961803,  6155857.3490115 ,  6364481.38694722,\n",
       "        2732757.68619512,  2733287.03099827,  6155751.48005087,\n",
       "        7661910.08574391, 10750414.00763223,  6103458.33243565,\n",
       "        6720269.81754403,  6291701.69090713,  7197154.41475814,\n",
       "        7197154.41475814,  6659811.72182618,  8138794.68295802,\n",
       "        6290748.87026146,  2732757.68619512,   377386.58816787,\n",
       "        9543814.32565548,  6720587.42442592,  2400202.15546439,\n",
       "        2360082.25183484,  6713057.69008706,   313383.84628757,\n",
       "        6667235.5872044 ,  7662121.82366517,  6659705.85286555,\n",
       "        6479203.96665419,  3671645.36141863,  7609299.3312468 ,\n",
       "        2355635.7554884 ,  3211342.5002618 ,  2355741.62444903,\n",
       "        4478076.50148667,  8926685.23366522,  6291384.08402524,\n",
       "        6713163.55904769,  5727077.48445334,  7196942.67683688,\n",
       "        5726230.5327683 ,  2356588.57613407,  1203065.53992557,\n",
       "        7602805.07880762,  2722498.56658651,  4991783.85681342,\n",
       "        7196942.67683688,  6667553.19408629,  7662015.95470454,\n",
       "       -2145266.12430537,  6291489.95298587,  7661910.08574391,\n",
       "        6661588.28645026,  6291807.55986776,  2405343.31912201,\n",
       "        2358811.82430729,  7197366.15267939,  7233024.35222512,\n",
       "        5726018.79484704,  5085991.37604404,  1790376.33527084,\n",
       "        6720587.42442592,  6667553.19408629,  7814518.5243236 ,\n",
       "        6149975.03068215,  8414354.17482665,  3109244.40313807,\n",
       "        2355424.01756714,  6667870.80096818,  7609299.3312468 ,\n",
       "       11903132.50758431,  6667764.93200755,  7197260.28371877,\n",
       "        2355635.7554884 ,  6291384.08402524,  6102611.38075062,\n",
       "        7233871.30391015,  2167604.13493819,  6667235.5872044 ,\n",
       "        6667659.06304692,  5718489.06050818,  2356165.10029155,\n",
       "        2399884.54858251,  6478992.22873293,  6667023.84928315,\n",
       "        2920789.30674534,  9491732.91596153,  8785382.04928277,\n",
       "        2400413.89338565,  6659705.85286555,  6291278.21506461,\n",
       "        6713163.55904769,  2356270.96925218,  6720587.42442592,\n",
       "        5085991.37604404,  6290748.87026146,  4991783.85681342,\n",
       "        6155539.74212961,  2355847.49340966,  1145525.3596921 ,\n",
       "        2450604.38640917,  7661592.47886202,  2355529.88652777,\n",
       "        6291384.08402524,  2355741.62444903,  6105787.44956951,\n",
       "        6291384.08402524,  2734875.06540772,  6103352.46347502,\n",
       "        6291913.42882839,  6291701.69090713,  7332916.16734708,\n",
       "        2920154.09298156,  5139343.21326555,  6667235.5872044 ,\n",
       "       11904085.32822998,  8973837.1456755 ,  6155963.21797213,\n",
       "        6658458.63304461,  6343677.23164046,  7388868.31317109,\n",
       "        3297064.28576702,  6720375.68650466,  7604393.11321707,\n",
       "        6155751.48005087,  2542714.55539295,  7097709.35513264,\n",
       "        3672492.31310367,  6720693.29338655,  2731698.99658883,\n",
       "        2356482.70717344,  6720587.42442592,  6344206.5764436 ,\n",
       "        7197260.28371877,  2355953.36237029, 11903132.50758431,\n",
       "        7609299.3312468 ,  7815328.36492487,  2400731.50026754,\n",
       "        6658458.63304461,  2356800.31405533,  1791329.1559165 ,\n",
       "        7332069.21566204,  5350273.16062851,  7233024.35222512,\n",
       "        2732651.81723449,  6720799.16234718,  2360505.72767736,\n",
       "        7231965.66261882,  7608558.2485224 ,  5082552.59884222,\n",
       "       11373743.02483373,  9679235.19170859,  3297064.28576702,\n",
       "        7233024.35222512,  5349637.94686473,  7600522.37708701,\n",
       "        4427159.65035963,  6720163.9485834 ,  6667870.80096818,\n",
       "        6713163.55904769,  7187848.11579519,  6291172.34610398,\n",
       "        7197683.75956128,  6495825.08329387,  6155857.3490115 ,\n",
       "        7814518.5243236 ,  6720693.29338655,  9491732.91596153,\n",
       "        6155857.3490115 ,  2542291.07955043,  2732545.94827386,\n",
       "        1790693.94215272,  2732545.94827386,  9867796.15706195,\n",
       "        3673762.74063123,  6667235.5872044 ,  8891768.11684391,\n",
       "        8926579.36470459,  7197366.15267939,  6658458.63304461,\n",
       "        4202093.53377551])"
      ]
     },
     "execution_count": 20,
     "metadata": {},
     "output_type": "execute_result"
    }
   ],
   "source": [
    "clf.predict(X_test)"
   ]
  },
  {
   "cell_type": "code",
   "execution_count": 22,
   "metadata": {},
   "outputs": [
    {
     "name": "stdout",
     "output_type": "stream",
     "text": [
      "1001     6675000\n",
      "40       4200000\n",
      "228     21000000\n",
      "737      3650000\n",
      "1162     3000000\n",
      "          ...   \n",
      "953      8100000\n",
      "877      1295000\n",
      "1254     5350000\n",
      "840      4450000\n",
      "971      5850000\n",
      "Name: Price, Length: 262, dtype: int64\n"
     ]
    }
   ],
   "source": [
    "print(y_test)"
   ]
  },
  {
   "cell_type": "code",
   "execution_count": 23,
   "metadata": {},
   "outputs": [
    {
     "name": "stdout",
     "output_type": "stream",
     "text": [
      "0.25521225035976536\n"
     ]
    }
   ],
   "source": [
    "print(clf.score(X_test, y_test))"
   ]
  }
 ],
 "metadata": {
  "kernelspec": {
   "display_name": "Python 3",
   "language": "python",
   "name": "python3"
  },
  "language_info": {
   "codemirror_mode": {
    "name": "ipython",
    "version": 3
   },
   "file_extension": ".py",
   "mimetype": "text/x-python",
   "name": "python",
   "nbconvert_exporter": "python",
   "pygments_lexer": "ipython3",
   "version": "3.7.0"
  }
 },
 "nbformat": 4,
 "nbformat_minor": 4
}
