{
 "cells": [
  {
   "cell_type": "code",
   "execution_count": 158,
   "metadata": {},
   "outputs": [],
   "source": [
    "import pandas as pd\n",
    "import numpy as np\n",
    "import matplotlib.pyplot as plt\n",
    "from sklearn.model_selection import train_test_split\n",
    "from sklearn.linear_model import LinearRegression\n",
    "from sklearn import preprocessing\n",
    "from scipy.stats import zscore"
   ]
  },
  {
   "cell_type": "code",
   "execution_count": 159,
   "metadata": {},
   "outputs": [],
   "source": [
    "df = pd.read_csv(\"testdata.csv\")"
   ]
  },
  {
   "cell_type": "code",
   "execution_count": 161,
   "metadata": {},
   "outputs": [
    {
     "data": {
      "text/plain": [
       "<bound method NDFrame.head of             id                        Model  Year Company     Price  Engine  \\\n",
       "0    200716453             Honda N Box 2019  2019   Honda   3750000     660   \n",
       "1    200716455      Honda N WGN Custom 2018  2017   Honda   3300000     658   \n",
       "2    200716452        Honda S660 Alpha 2017  2017   Honda   3885000     658   \n",
       "3    200701070  Honda Fit GP5 RS Grade 2015  2015   Honda   3890000    1496   \n",
       "4    200716458     Honda Fit GP5 Sport 2014  2014   Honda   3275000    1496   \n",
       "..         ...                          ...   ...     ...       ...     ...   \n",
       "141  200722374                      A6 2015  2015    Audi  11500000    1800   \n",
       "142  200428354                      A3 2017  2017    Audi   5875000    1000   \n",
       "143  200722372                      A4 2016  2016    Audi   8500000    1400   \n",
       "144  200722373                      A4 2013  2013    Audi   6200000    2000   \n",
       "145  200701696                      Q2 2017  2017    Audi   7575000     990   \n",
       "\n",
       "         FuelType Transmission  Age  Mileage  \n",
       "0          petrol    Automatic    1     1850  \n",
       "1          petrol    Automatic    3    34000  \n",
       "2          petrol    Automatic    3    15000  \n",
       "3          petrol    Automatic    5    80000  \n",
       "4    HybridPetrol    Automatic    6    68000  \n",
       "..            ...          ...  ...      ...  \n",
       "141        petrol    Automatic    5    45000  \n",
       "142        petrol    Automatic    3    38000  \n",
       "143        petrol    Automatic    4    48000  \n",
       "144        Diesel    Automatic    7    48000  \n",
       "145        petrol    Automatic    3     4500  \n",
       "\n",
       "[146 rows x 10 columns]>"
      ]
     },
     "execution_count": 161,
     "metadata": {},
     "output_type": "execute_result"
    }
   ],
   "source": [
    "df.head"
   ]
  },
  {
   "cell_type": "code",
   "execution_count": 162,
   "metadata": {},
   "outputs": [],
   "source": [
    "df[\"Transmission\"] = df[\"Transmission\"].astype(str)"
   ]
  },
  {
   "cell_type": "code",
   "execution_count": 163,
   "metadata": {},
   "outputs": [
    {
     "name": "stdout",
     "output_type": "stream",
     "text": [
      "0      2019\n",
      "1      2017\n",
      "2      2017\n",
      "3      2015\n",
      "4      2014\n",
      "       ... \n",
      "141    2015\n",
      "142    2017\n",
      "143    2016\n",
      "144    2013\n",
      "145    2017\n",
      "Name: Year, Length: 144, dtype: int64\n"
     ]
    }
   ],
   "source": [
    "df= df[(df['Year']>=1990)&(df['Year']<=2020)]\n",
    "print(df.Year)"
   ]
  },
  {
   "cell_type": "code",
   "execution_count": 164,
   "metadata": {},
   "outputs": [
    {
     "data": {
      "text/plain": [
       "Text(0, 0.5, 'Price')"
      ]
     },
     "execution_count": 164,
     "metadata": {},
     "output_type": "execute_result"
    },
    {
     "data": {
      "image/png": "[encoded data removed]",
      "text/plain": [
       "<Figure size 432x288 with 1 Axes>"
      ]
     },
     "metadata": {
      "needs_background": "light"
     },
     "output_type": "display_data"
    }
   ],
   "source": [
    "plt.scatter(df['Year'], df['Price'])\n",
    "plt.xlabel(\"Year\")\n",
    "plt.ylabel(\"Price\")"
   ]
  },
  {
   "cell_type": "code",
   "execution_count": 165,
   "metadata": {},
   "outputs": [
    {
     "data": {
      "text/plain": [
       "id               int64\n",
       "Model           object\n",
       "Year             int64\n",
       "Company         object\n",
       "Price            int64\n",
       "Engine           int64\n",
       "FuelType        object\n",
       "Transmission    object\n",
       "Age              int64\n",
       "Mileage          int64\n",
       "dtype: object"
      ]
     },
     "execution_count": 165,
     "metadata": {},
     "output_type": "execute_result"
    }
   ],
   "source": [
    "df.dtypes"
   ]
  },
  {
   "cell_type": "code",
   "execution_count": 166,
   "metadata": {},
   "outputs": [
    {
     "data": {
      "text/plain": [
       "id               int64\n",
       "Model           object\n",
       "Year             int64\n",
       "Company         object\n",
       "Price            int64\n",
       "Engine           int64\n",
       "FuelType        object\n",
       "Transmission    object\n",
       "Age              int64\n",
       "Mileage          int64\n",
       "dtype: object"
      ]
     },
     "execution_count": 166,
     "metadata": {},
     "output_type": "execute_result"
    }
   ],
   "source": [
    "df.dtypes"
   ]
  },
  {
   "cell_type": "code",
   "execution_count": 167,
   "metadata": {},
   "outputs": [],
   "source": [
    "df = df.astype({\"Engine\": int, \"Age\": int})"
   ]
  },
  {
   "cell_type": "code",
   "execution_count": 168,
   "metadata": {},
   "outputs": [
    {
     "data": {
      "text/plain": [
       "Text(0, 0.5, 'Price')"
      ]
     },
     "execution_count": 168,
     "metadata": {},
     "output_type": "execute_result"
    },
    {
     "data": {
      "image/png": "[encoded data removed]",
      "text/plain": [
       "<Figure size 432x288 with 1 Axes>"
      ]
     },
     "metadata": {
      "needs_background": "light"
     },
     "output_type": "display_data"
    }
   ],
   "source": [
    "plt.scatter(df['Engine'], df['Price'])\n",
    "plt.xlabel(\"Engine\")\n",
    "plt.ylabel(\"Price\")"
   ]
  },
  {
   "cell_type": "code",
   "execution_count": 169,
   "metadata": {},
   "outputs": [
    {
     "data": {
      "text/plain": [
       "Text(0, 0.5, 'Price')"
      ]
     },
     "execution_count": 169,
     "metadata": {},
     "output_type": "execute_result"
    },
    {
     "data": {
      "image/png": "[encoded data removed]",
      "text/plain": [
       "<Figure size 432x288 with 1 Axes>"
      ]
     },
     "metadata": {
      "needs_background": "light"
     },
     "output_type": "display_data"
    }
   ],
   "source": [
    "plt.scatter(df['Age'], df['Price'])\n",
    "plt.xlabel(\"Age\")\n",
    "plt.ylabel(\"Price\")"
   ]
  },
  {
   "cell_type": "code",
   "execution_count": 170,
   "metadata": {},
   "outputs": [
    {
     "data": {
      "text/plain": [
       "Text(0, 0.5, 'Price')"
      ]
     },
     "execution_count": 170,
     "metadata": {},
     "output_type": "execute_result"
    },
    {
     "data": {
      "image/png": "[encoded data removed]",
      "text/plain": [
       "<Figure size 432x288 with 1 Axes>"
      ]
     },
     "metadata": {
      "needs_background": "light"
     },
     "output_type": "display_data"
    }
   ],
   "source": [
    "plt.scatter(df['Transmission'], df['Price'])\n",
    "plt.xlabel(\"Transmission\")\n",
    "plt.ylabel(\"Price\")"
   ]
  },
  {
   "cell_type": "code",
   "execution_count": 171,
   "metadata": {},
   "outputs": [
    {
     "data": {
      "text/plain": [
       "Text(0, 0.5, 'Price')"
      ]
     },
     "execution_count": 171,
     "metadata": {},
     "output_type": "execute_result"
    },
    {
     "data": {
      "image/png": "[encoded data removed]",
      "text/plain": [
       "<Figure size 432x288 with 1 Axes>"
      ]
     },
     "metadata": {
      "needs_background": "light"
     },
     "output_type": "display_data"
    }
   ],
   "source": [
    "plt.scatter(df['Age'], df['Price'])\n",
    "plt.xlabel(\"Age\")\n",
    "plt.ylabel(\"Price\")"
   ]
  },
  {
   "cell_type": "code",
   "execution_count": 172,
   "metadata": {},
   "outputs": [],
   "source": [
    "df[\"FuelType\"] = df[\"FuelType\"].astype(str)"
   ]
  },
  {
   "cell_type": "code",
   "execution_count": 173,
   "metadata": {},
   "outputs": [
    {
     "data": {
      "text/plain": [
       "Text(0, 0.5, 'Price')"
      ]
     },
     "execution_count": 173,
     "metadata": {},
     "output_type": "execute_result"
    },
    {
     "data": {
      "image/png": "[encoded data removed]",
      "text/plain": [
       "<Figure size 432x288 with 1 Axes>"
      ]
     },
     "metadata": {
      "needs_background": "light"
     },
     "output_type": "display_data"
    }
   ],
   "source": [
    "plt.scatter(df['FuelType'], df['Price'])\n",
    "plt.xlabel(\"FuelType\")\n",
    "plt.ylabel(\"Price\")"
   ]
  },
  {
   "cell_type": "code",
   "execution_count": 174,
   "metadata": {},
   "outputs": [
    {
     "data": {
      "text/plain": [
       "Text(0, 0.5, 'Price')"
      ]
     },
     "execution_count": 174,
     "metadata": {},
     "output_type": "execute_result"
    },
    {
     "data": {
      "image/png": "[encoded data removed]",
      "text/plain": [
       "<Figure size 432x288 with 1 Axes>"
      ]
     },
     "metadata": {
      "needs_background": "light"
     },
     "output_type": "display_data"
    }
   ],
   "source": [
    "plt.scatter(df['Mileage'], df['Price'])\n",
    "plt.xlabel(\"Mileage\")\n",
    "plt.ylabel(\"Price\")"
   ]
  },
  {
   "cell_type": "code",
   "execution_count": 175,
   "metadata": {},
   "outputs": [
    {
     "name": "stdout",
     "output_type": "stream",
     "text": [
      "['Automatic', 'Triptonic', 'Manual']\n",
      "['petrol', 'HybridPetrol', 'petrol ', 'Diesel', 'Petrol', 'Diesel/Petrol', 'petrol/Diesel', 'Petrol-Electric']\n",
      "0\n",
      "0\n",
      "0\n",
      "0\n",
      "id               int64\n",
      "Model           object\n",
      "Year             int64\n",
      "Company         object\n",
      "Price            int64\n",
      "Engine           int32\n",
      "FuelType         int32\n",
      "Transmission     int32\n",
      "Age              int32\n",
      "Mileage          int64\n",
      "dtype: object\n",
      "<bound method NDFrame.head of 0      0\n",
      "1      0\n",
      "2      0\n",
      "3      0\n",
      "4      1\n",
      "      ..\n",
      "141    0\n",
      "142    0\n",
      "143    0\n",
      "144    3\n",
      "145    0\n",
      "Name: FuelType, Length: 144, dtype: int32>\n",
      "<bound method NDFrame.head of 0      0\n",
      "1      0\n",
      "2      0\n",
      "3      0\n",
      "4      0\n",
      "      ..\n",
      "141    0\n",
      "142    0\n",
      "143    0\n",
      "144    0\n",
      "145    0\n",
      "Name: Transmission, Length: 144, dtype: int32>\n"
     ]
    }
   ],
   "source": [
    "transmission_types = [x for x in df['Transmission'].unique().tolist()]\n",
    "print(transmission_types)\n",
    "fuel_types = [x for x in df['FuelType'].unique().tolist()]\n",
    "print(fuel_types)\n",
    "tmission_number = 0\n",
    "\n",
    "for tmission in transmission_types:\n",
    "  df['Transmission'] = df['Transmission'].replace({str(tmission): str(tmission_number)})\n",
    "  tmission_number += 1\n",
    "ftype_number = 0\n",
    "for ftype in fuel_types:\n",
    "  df['FuelType'] = df['FuelType'].replace({str(ftype): str(ftype_number)})\n",
    "  ftype_number += 1\n",
    "print(df['Transmission'].isnull().sum())\n",
    "print(df['FuelType'].isnull().sum())\n",
    "df['Transmission'] = df['Transmission'].fillna(method='ffill')\n",
    "df['FuelType'] = df['FuelType'].fillna(method='ffill')\n",
    "print(df['Transmission'].isnull().sum())\n",
    "print(df['FuelType'].isnull().sum())\n",
    "df['Transmission'] = df['Transmission'].astype(float).astype(int)\n",
    "df['FuelType'] = df['FuelType'].astype(float).astype(int)\n",
    "print(df.dtypes)\n",
    "print(df['FuelType'].head)\n",
    "print(df['Transmission'].head)"
   ]
  },
  {
   "cell_type": "code",
   "execution_count": 176,
   "metadata": {},
   "outputs": [],
   "source": [
    "X = df[['Year','Engine','Age','Transmission','Mileage']]\n",
    "y = df['Price']"
   ]
  },
  {
   "cell_type": "code",
   "execution_count": 177,
   "metadata": {},
   "outputs": [],
   "source": [
    "X_train,X_test,y_train,y_test = train_test_split(X,y,test_size=0.2)"
   ]
  },
  {
   "cell_type": "code",
   "execution_count": 178,
   "metadata": {},
   "outputs": [
    {
     "name": "stdout",
     "output_type": "stream",
     "text": [
      "     Year  Engine  Age  Transmission  Mileage\n",
      "131  2012    1500    8             0   135000\n",
      "68   2014    1496    6             0    52000\n",
      "114  2010     990   10             0   107000\n",
      "121  2007    1300   13             0   112000\n",
      "141  2015    1800    5             0    45000\n",
      "..    ...     ...  ...           ...      ...\n",
      "66   2012    1339    8             0    85945\n",
      "65   2013    1339    7             0    68000\n",
      "105  2018    1500    2             0    15000\n",
      "96   2018    1500    2             0        0\n",
      "135  2004    1500   16             0   196000\n",
      "\n",
      "[115 rows x 5 columns]\n"
     ]
    }
   ],
   "source": [
    "print(X_train) "
   ]
  },
  {
   "cell_type": "code",
   "execution_count": 179,
   "metadata": {},
   "outputs": [
    {
     "name": "stdout",
     "output_type": "stream",
     "text": [
      "     Year  Engine  Age  Transmission  Mileage\n",
      "109  2019    2900    1             0      500\n",
      "6    2014    1496    6             0    84000\n",
      "145  2017     990    3             0     4500\n",
      "25   1996    1490   21             0   300000\n",
      "12   2018    1000    2             1    30576\n",
      "123  1993    1300   27             2    40000\n",
      "49   2016    1496    4             0    43595\n",
      "18   2018    1496    2             0    62300\n",
      "63   2014    1496    6             0    66000\n",
      "19   2018    1496    2             0    25000\n",
      "53   2010    1300   10             0   156000\n",
      "0    2019     660    1             0     1850\n",
      "27   2011    1300    9             0    52000\n",
      "39   2014    1500    6             0    72000\n",
      "134  1998    1300   22             2   144000\n",
      "28   2012    1300    8             0    70000\n",
      "17   2017    1497    3             0     7900\n",
      "94   2018    1500    2             0    31000\n",
      "16   2016    1497    4             0    14000\n",
      "57   2013    2000    7             0    84000\n",
      "34   2013    1496    7             0   100000\n",
      "138  1998    1300   22             2    35000\n",
      "144  2013    2000    7             0    48000\n",
      "1    2017     658    3             0    34000\n",
      "122  2011    1600    9             0    70000\n",
      "43   2004    1500   16             0   170998\n",
      "89   2018    1000    2             0     9000\n",
      "3    2015    1496    5             0    80000\n",
      "85   2019    1500    1             0        0\n"
     ]
    }
   ],
   "source": [
    "print(X_test)"
   ]
  },
  {
   "cell_type": "code",
   "execution_count": 180,
   "metadata": {},
   "outputs": [
    {
     "data": {
      "text/plain": [
       "Year            int64\n",
       "Engine          int32\n",
       "Age             int32\n",
       "Transmission    int32\n",
       "Mileage         int64\n",
       "dtype: object"
      ]
     },
     "execution_count": 180,
     "metadata": {},
     "output_type": "execute_result"
    }
   ],
   "source": [
    "X_test.dtypes"
   ]
  },
  {
   "cell_type": "code",
   "execution_count": 181,
   "metadata": {},
   "outputs": [
    {
     "data": {
      "text/plain": [
       "LinearRegression(copy_X=True, fit_intercept=True, n_jobs=None, normalize=False)"
      ]
     },
     "execution_count": 181,
     "metadata": {},
     "output_type": "execute_result"
    }
   ],
   "source": [
    "clf = LinearRegression()\n",
    "clf.fit(X_train, y_train)"
   ]
  },
  {
   "cell_type": "code",
   "execution_count": 182,
   "metadata": {},
   "outputs": [
    {
     "data": {
      "text/plain": [
       "array([12997003.28602725,  5130494.44362622,  4620439.46441007,\n",
       "       -1678318.63151658,  6061565.18356931,  2016895.3874737 ,\n",
       "        6048031.02665788,  6392260.39137691,  5305076.23908597,\n",
       "        6754032.6675241 ,  2579206.90237272,  3822052.90760732,\n",
       "        3850726.19416857,  5263242.76573706,  2322322.93718106,\n",
       "        3938968.8722927 ,  6661151.01424479,  6712199.19417518,\n",
       "        6339162.70997745,  6929087.73738849,  4712486.15185595,\n",
       "        3379512.69857621,  7278251.32830805,  2976401.24653572,\n",
       "        4903178.78403389,  1674817.55284727,  4880519.63530648,\n",
       "        5432114.87175673,  7275692.31549531])"
      ]
     },
     "execution_count": 182,
     "metadata": {},
     "output_type": "execute_result"
    }
   ],
   "source": [
    "clf.predict(X_test)"
   ]
  },
  {
   "cell_type": "code",
   "execution_count": 183,
   "metadata": {},
   "outputs": [
    {
     "name": "stdout",
     "output_type": "stream",
     "text": [
      "109    39850000\n",
      "6       3375000\n",
      "145     7575000\n",
      "25      2075000\n",
      "12      6290000\n",
      "123      805000\n",
      "49      5070000\n",
      "18      6100000\n",
      "63      4290000\n",
      "19      7000000\n",
      "53      2950000\n",
      "0       3750000\n",
      "27      3300000\n",
      "39      3375000\n",
      "134     1490000\n",
      "28      3950000\n",
      "17      6590000\n",
      "94      6100000\n",
      "16      5875000\n",
      "57      7000000\n",
      "34      4100000\n",
      "138     2250000\n",
      "144     6200000\n",
      "1       3300000\n",
      "122     2700000\n",
      "43      2650000\n",
      "89      4495000\n",
      "3       3890000\n",
      "85     11790000\n",
      "Name: Price, dtype: int64\n"
     ]
    }
   ],
   "source": [
    "print(y_test)"
   ]
  },
  {
   "cell_type": "code",
   "execution_count": 184,
   "metadata": {},
   "outputs": [
    {
     "name": "stdout",
     "output_type": "stream",
     "text": [
      "0.41362812327299114\n"
     ]
    }
   ],
   "source": [
    "print(clf.score(X_test, y_test))"
   ]
  },
  {
   "cell_type": "code",
   "execution_count": 185,
   "metadata": {},
   "outputs": [
    {
     "data": {
      "text/plain": [
       "array([5083229.19474649])"
      ]
     },
     "execution_count": 185,
     "metadata": {},
     "output_type": "execute_result"
    }
   ],
   "source": [
    "clf.predict([[2025,658,8,0,15000]])"
   ]
  }
 ],
 "metadata": {
  "kernelspec": {
   "display_name": "Python 3",
   "language": "python",
   "name": "python3"
  },
  "language_info": {
   "codemirror_mode": {
    "name": "ipython",
    "version": 3
   },
   "file_extension": ".py",
   "mimetype": "text/x-python",
   "name": "python",
   "nbconvert_exporter": "python",
   "pygments_lexer": "ipython3",
   "version": "3.7.0"
  }
 },
 "nbformat": 4,
 "nbformat_minor": 4
}
