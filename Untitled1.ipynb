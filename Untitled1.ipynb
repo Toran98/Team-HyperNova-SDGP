{
 "cells": [
  {
   "cell_type": "code",
   "execution_count": 40,
   "metadata": {},
   "outputs": [],
   "source": [
    "import pandas as pd\n",
    "import matplotlib.pyplot as plt\n",
    "from sklearn.model_selection import train_test_split\n",
    "from sklearn.linear_model import LinearRegression\n",
    "from sklearn import preprocessing"
   ]
  },
  {
   "cell_type": "code",
   "execution_count": 140,
   "metadata": {},
   "outputs": [
    {
     "name": "stdout",
     "output_type": "stream",
     "text": [
      "0                 Honda N Box 2018\n",
      "1          Honda N WGN Custom 2018\n",
      "2            Honda S660 Alpha 2017\n",
      "3       Honda Fit GP5 S Grade 2018\n",
      "4            Honda Fit GP5 DX 2018\n",
      "                   ...            \n",
      "1295            Range Rover Evoque\n",
      "1296            Range Rover Evoque\n",
      "1297            Range Rover Evoque\n",
      "1298            Range Rover Evoque\n",
      "1299            Range Rover Evoque\n",
      "Name: Model, Length: 1300, dtype: object\n"
     ]
    }
   ],
   "source": [
    "df = pd.read_csv(\"datasetnew2.csv\")\n",
    "print(df.Model)"
   ]
  },
  {
   "cell_type": "code",
   "execution_count": 108,
   "metadata": {},
   "outputs": [
    {
     "data": {
      "text/plain": [
       "Text(0, 0.5, 'Year')"
      ]
     },
     "execution_count": 108,
     "metadata": {},
     "output_type": "execute_result"
    },
    {
     "data": {
      "image/png": "[encoded data removed]",
      "text/plain": [
       "<Figure size 432x288 with 1 Axes>"
      ]
     },
     "metadata": {
      "needs_background": "light"
     },
     "output_type": "display_data"
    }
   ],
   "source": [
    "plt.scatter(df['Year'], df['Price'])\n",
    "plt.xlabel(\"Price\")\n",
    "plt.ylabel(\"Year\")"
   ]
  },
  {
   "cell_type": "code",
   "execution_count": 109,
   "metadata": {},
   "outputs": [
    {
     "data": {
      "text/plain": [
       "Text(0, 0.5, 'Engine')"
      ]
     },
     "execution_count": 109,
     "metadata": {},
     "output_type": "execute_result"
    },
    {
     "data": {
      "image/png": "[encoded data removed]",
      "text/plain": [
       "<Figure size 432x288 with 1 Axes>"
      ]
     },
     "metadata": {
      "needs_background": "light"
     },
     "output_type": "display_data"
    }
   ],
   "source": [
    "plt.scatter(df['Engine'], df['Price'])\n",
    "plt.xlabel(\"Price\")\n",
    "plt.ylabel(\"Engine\")"
   ]
  },
  {
   "cell_type": "code",
   "execution_count": 122,
   "metadata": {},
   "outputs": [],
   "source": [
    "df = df[['Engine','Year','Price']]"
   ]
  },
  {
   "cell_type": "code",
   "execution_count": 123,
   "metadata": {},
   "outputs": [],
   "source": [
    "x = df.values\n",
    "min_max_scaler = preprocessing.MinMaxScaler()\n",
    "x_scaled = min_max_scaler.fit_transform(x)\n",
    "df= pd.DataFrame(x_scaled)"
   ]
  },
  {
   "cell_type": "code",
   "execution_count": 124,
   "metadata": {},
   "outputs": [
    {
     "data": {
      "text/plain": [
       "<bound method NDFrame.head of              0         1         2\n",
       "0     0.192771  0.998911  0.104524\n",
       "1     0.080551  0.998911  0.117005\n",
       "2     0.080551  0.998366  0.120125\n",
       "3     0.224785  0.998911  0.191888\n",
       "4     0.224785  0.998911  0.207488\n",
       "...        ...       ...       ...\n",
       "1295  0.655766  0.996187  0.350234\n",
       "1296  0.655766  0.996187  0.394696\n",
       "1297  0.655766  0.996187  0.397816\n",
       "1298  0.655766  0.996187  0.410296\n",
       "1299  0.655766  0.996187  0.407176\n",
       "\n",
       "[1300 rows x 3 columns]>"
      ]
     },
     "execution_count": 124,
     "metadata": {},
     "output_type": "execute_result"
    }
   ],
   "source": [
    "df.head"
   ]
  },
  {
   "cell_type": "code",
   "execution_count": 129,
   "metadata": {},
   "outputs": [],
   "source": [
    "X = df[[2,0]]\n",
    "y = df[1]"
   ]
  },
  {
   "cell_type": "code",
   "execution_count": 130,
   "metadata": {},
   "outputs": [],
   "source": [
    "X_train, X_test, y_train,y_test = train_test_split(X,y,test_size=0.2)"
   ]
  },
  {
   "cell_type": "code",
   "execution_count": 131,
   "metadata": {},
   "outputs": [
    {
     "name": "stdout",
     "output_type": "stream",
     "text": [
      "             2         0\n",
      "595   0.021841  0.397590\n",
      "831   0.172387  0.225473\n",
      "1254  0.165367  0.225473\n",
      "405   0.009984  0.010327\n",
      "610   0.026521  0.242685\n",
      "...        ...       ...\n",
      "1170  0.146646  0.277108\n",
      "618   0.087363  0.380379\n",
      "431   0.241810  0.483649\n",
      "141   0.004680  0.195353\n",
      "1007  0.129485  0.104991\n",
      "\n",
      "[1040 rows x 2 columns]\n"
     ]
    }
   ],
   "source": [
    "print(X_train)"
   ]
  },
  {
   "cell_type": "code",
   "execution_count": 132,
   "metadata": {},
   "outputs": [
    {
     "name": "stdout",
     "output_type": "stream",
     "text": [
      "             2         0\n",
      "523   0.421997  0.483649\n",
      "180   0.031201  0.242685\n",
      "902   0.191888  0.139415\n",
      "1010  0.057254  0.104991\n",
      "353   0.188768  0.199656\n",
      "...        ...       ...\n",
      "717   0.078783  0.225473\n",
      "600   0.112324  0.259897\n",
      "402   0.653666  0.483649\n",
      "346   0.028081  0.004475\n",
      "828   0.120125  0.225473\n",
      "\n",
      "[260 rows x 2 columns]\n"
     ]
    }
   ],
   "source": [
    "print(X_test)"
   ]
  },
  {
   "cell_type": "code",
   "execution_count": 133,
   "metadata": {},
   "outputs": [
    {
     "data": {
      "text/plain": [
       "LinearRegression(copy_X=True, fit_intercept=True, n_jobs=None, normalize=False)"
      ]
     },
     "execution_count": 133,
     "metadata": {},
     "output_type": "execute_result"
    }
   ],
   "source": [
    "clf=LinearRegression()\n",
    "clf.fit(X_train,y_train)"
   ]
  },
  {
   "cell_type": "code",
   "execution_count": 134,
   "metadata": {},
   "outputs": [
    {
     "data": {
      "text/plain": [
       "array([0.99570976, 0.9912416 , 0.99097591, 0.98994156, 0.99158628,\n",
       "       0.99374464, 0.99202764, 0.99214322, 0.99155587, 0.99098331,\n",
       "       0.99069908, 0.9934801 , 0.99308999, 0.99178402, 0.99319975,\n",
       "       0.99004998, 0.99045767, 0.99075203, 0.99308999, 0.99078339,\n",
       "       0.99067948, 0.98984669, 0.99304687, 0.99196638, 0.99308999,\n",
       "       0.99529031, 0.99178402, 0.99081512, 0.99186311, 0.98868762,\n",
       "       0.99191788, 0.99328207, 0.99152228, 0.99194431, 0.9915719 ,\n",
       "       0.99092273, 0.99068538, 0.99059522, 0.99294494, 0.9926357 ,\n",
       "       0.9915375 , 0.99135193, 0.99147826, 0.99102295, 0.99210838,\n",
       "       0.98882946, 0.99243141, 0.99594219, 0.99082102, 0.99438957,\n",
       "       0.99054963, 0.99136065, 0.99139985, 0.99129793, 0.9905055 ,\n",
       "       0.99115367, 0.99125246, 0.99301551, 0.99658887, 0.99107739,\n",
       "       0.99155956, 0.99101075, 0.99068303, 0.99247453, 0.99689288,\n",
       "       0.99243476, 0.99068538, 0.99183106, 0.99119456, 0.99199639,\n",
       "       0.99146258, 0.99432569, 0.99030009, 0.99043494, 0.9915495 ,\n",
       "       0.99301551, 0.99313929, 0.99135281, 0.99427778, 0.9934624 ,\n",
       "       0.99040358, 0.99246559, 0.99304687, 0.99075987, 0.99096371,\n",
       "       0.99317464, 0.99229654, 0.99205744, 0.99080691, 0.99302771,\n",
       "       0.99111267, 0.99147894, 0.99200791, 0.99235225, 0.99189312,\n",
       "       0.99020757, 0.99281278, 0.99138417, 0.99067164, 0.99443686,\n",
       "       0.99166294, 0.99205552, 0.99198932, 0.99346327, 0.99171302,\n",
       "       0.99179477, 0.99139985, 0.99170069, 0.99222524, 0.9904075 ,\n",
       "       0.99145474, 0.99487187, 0.99279598, 0.9932476 , 0.99023893,\n",
       "       0.99096763, 0.99132537, 0.99488262, 0.99138486, 0.99361775,\n",
       "       0.99114717, 0.99111526, 0.99166294, 0.99217415, 0.99205911,\n",
       "       0.99087982, 0.99213683, 0.99221523, 0.99809419, 0.99132851,\n",
       "       0.99139875, 0.99383322, 0.99186311, 0.99499414, 0.99141335,\n",
       "       0.99198485, 0.9934193 , 0.99243723, 0.99026245, 0.99128516,\n",
       "       0.99072615, 0.99190947, 0.99239613, 0.99014093, 0.99082259,\n",
       "       0.99118817, 0.99249917, 0.99365435, 0.9938489 , 0.99112153,\n",
       "       0.99975482, 0.98992745, 0.99294305, 0.99078731, 0.99205552,\n",
       "       0.99438869, 0.99110091, 0.99398536, 0.99134788, 0.9914665 ,\n",
       "       0.99121964, 0.99076698, 0.9914665 , 0.99243645, 0.99098566,\n",
       "       0.99261508, 0.99485541, 0.99197219, 0.99130028, 0.99143513,\n",
       "       0.99354137, 0.99062539, 0.99217672, 0.99064107, 0.99277537,\n",
       "       0.99485541, 0.99171694, 0.99161222, 0.99266808, 0.99130028,\n",
       "       0.99207702, 0.99096394, 0.99265486, 0.99439296, 0.99175266,\n",
       "       0.99195999, 0.99071633, 0.9915495 , 0.99586379, 0.99247701,\n",
       "       0.99036281, 0.99134788, 0.99088183, 0.99296199, 0.99080052,\n",
       "       0.99214322, 0.99442907, 0.99317233, 0.9915253 , 0.99063994,\n",
       "       0.99063129, 0.99190947, 0.99173205, 0.99214322, 0.99073791,\n",
       "       0.99175156, 0.9926235 , 0.99155666, 0.99030009, 0.99192326,\n",
       "       0.99186533, 0.99279284, 0.9887425 , 0.99179477, 0.99336047,\n",
       "       0.99089707, 0.98982004, 0.99254353, 0.99531819, 0.99076771,\n",
       "       0.99155956, 0.99078339, 0.99154166, 0.99190947, 0.99001494,\n",
       "       0.99114403, 0.99202707, 0.99131361, 0.99245101, 0.9906799 ,\n",
       "       0.9929371 , 0.99058346, 0.99248237, 0.99044278, 0.99336047,\n",
       "       0.99040358, 0.99030009, 0.99158018, 0.99118817, 0.99116857,\n",
       "       0.99223149, 0.99301551, 0.99132145, 0.99019189, 0.99186132,\n",
       "       0.99030009, 0.99203055, 0.99071868, 0.99082651, 0.99551996,\n",
       "       0.99107347, 0.99116675, 0.98985375, 0.99213683, 0.9929438 ,\n",
       "       0.99130185, 0.99182816, 0.99687402, 0.98875034, 0.99150962])"
      ]
     },
     "execution_count": 134,
     "metadata": {},
     "output_type": "execute_result"
    }
   ],
   "source": [
    "clf.predict(X_test)"
   ]
  },
  {
   "cell_type": "code",
   "execution_count": 135,
   "metadata": {},
   "outputs": [
    {
     "name": "stdout",
     "output_type": "stream",
     "text": [
      "523     0.998911\n",
      "180     0.988017\n",
      "902     0.991830\n",
      "1010    0.997821\n",
      "353     0.996187\n",
      "          ...   \n",
      "717     0.996732\n",
      "600     0.989107\n",
      "402     0.997821\n",
      "346     0.998911\n",
      "828     0.998911\n",
      "Name: 1, Length: 260, dtype: float64\n"
     ]
    }
   ],
   "source": [
    "print(y_test)"
   ]
  },
  {
   "cell_type": "code",
   "execution_count": 137,
   "metadata": {},
   "outputs": [
    {
     "name": "stdout",
     "output_type": "stream",
     "text": [
      "0.05123574662102259\n"
     ]
    }
   ],
   "source": [
    "print(clf.score(X_test,y_test))"
   ]
  }
 ],
 "metadata": {
  "kernelspec": {
   "display_name": "Python 3",
   "language": "python",
   "name": "python3"
  },
  "language_info": {
   "codemirror_mode": {
    "name": "ipython",
    "version": 3
   },
   "file_extension": ".py",
   "mimetype": "text/x-python",
   "name": "python",
   "nbconvert_exporter": "python",
   "pygments_lexer": "ipython3",
   "version": "3.7.0"
  }
 },
 "nbformat": 4,
 "nbformat_minor": 4
}
